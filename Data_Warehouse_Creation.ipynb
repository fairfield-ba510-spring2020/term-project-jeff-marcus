{
 "cells": [
  {
   "cell_type": "code",
   "execution_count": 1,
   "metadata": {},
   "outputs": [],
   "source": [
    "%load_ext sql"
   ]
  },
  {
   "cell_type": "code",
   "execution_count": 2,
   "metadata": {},
   "outputs": [
    {
     "name": "stdout",
     "output_type": "stream",
     "text": [
      "Done.\n"
     ]
    },
    {
     "data": {
      "text/plain": [
       "[]"
      ]
     },
     "execution_count": 2,
     "metadata": {},
     "output_type": "execute_result"
    }
   ],
   "source": [
    "%%sql\n",
    "\n",
    "sqlite:///CourseDataWarehouseDemo.db\n",
    "    \n",
    "attach \"CourseData.db\" as db1"
   ]
  },
  {
   "cell_type": "code",
   "execution_count": 3,
   "metadata": {},
   "outputs": [
    {
     "name": "stdout",
     "output_type": "stream",
     "text": [
      " * sqlite:///CourseDataWarehouseDemo.db\n",
      "Done.\n"
     ]
    },
    {
     "data": {
      "text/html": [
       "<table>\n",
       "    <tr>\n",
       "        <th>cid</th>\n",
       "        <th>name</th>\n",
       "        <th>type</th>\n",
       "        <th>notnull</th>\n",
       "        <th>dflt_value</th>\n",
       "        <th>pk</th>\n",
       "    </tr>\n",
       "</table>"
      ],
      "text/plain": [
       "[]"
      ]
     },
     "execution_count": 3,
     "metadata": {},
     "output_type": "execute_result"
    }
   ],
   "source": [
    "%%sql\n",
    "\n",
    "PRAGMA table_info(COURSE_MEETINGS);"
   ]
  },
  {
   "cell_type": "markdown",
   "metadata": {},
   "source": [
    "Creating the tables for our Data Warehouse. There are only 5 tables, with one fact table."
   ]
  },
  {
   "cell_type": "code",
   "execution_count": 5,
   "metadata": {},
   "outputs": [
    {
     "name": "stdout",
     "output_type": "stream",
     "text": [
      " * sqlite:///CourseDataWarehouseDemo.db\n",
      "Done.\n",
      "Done.\n"
     ]
    },
    {
     "data": {
      "text/plain": [
       "[]"
      ]
     },
     "execution_count": 5,
     "metadata": {},
     "output_type": "execute_result"
    }
   ],
   "source": [
    "%%sql\n",
    "\n",
    "DROP TABLE IF EXISTS INSTRUCTOR_WH;\n",
    "CREATE TABLE INSTRUCTOR_WH (\n",
    "    IID INTEGER PRIMARY KEY,\n",
    "    Name TEXT NOT NULL\n",
    ");"
   ]
  },
  {
   "cell_type": "code",
   "execution_count": 6,
   "metadata": {},
   "outputs": [
    {
     "name": "stdout",
     "output_type": "stream",
     "text": [
      " * sqlite:///CourseDataWarehouseDemo.db\n",
      "Done.\n",
      "Done.\n"
     ]
    },
    {
     "data": {
      "text/plain": [
       "[]"
      ]
     },
     "execution_count": 6,
     "metadata": {},
     "output_type": "execute_result"
    }
   ],
   "source": [
    "%%sql\n",
    "\n",
    "DROP TABLE IF EXISTS LOCATION_WH;\n",
    "CREATE TABLE LOCATION_WH (\n",
    "    LID INTEGER PRIMARY KEY,\n",
    "    Location TEXT NOT NULL\n",
    ");"
   ]
  },
  {
   "cell_type": "code",
   "execution_count": 7,
   "metadata": {},
   "outputs": [
    {
     "name": "stdout",
     "output_type": "stream",
     "text": [
      " * sqlite:///CourseDataWarehouseDemo.db\n",
      "Done.\n",
      "Done.\n"
     ]
    },
    {
     "data": {
      "text/plain": [
       "[]"
      ]
     },
     "execution_count": 7,
     "metadata": {},
     "output_type": "execute_result"
    }
   ],
   "source": [
    "%%sql\n",
    "\n",
    "DROP TABLE IF EXISTS TIME_CODE_WH;\n",
    "CREATE TABLE TIME_CODE_WH (\n",
    "    TCID INT PRIMARY KEY,\n",
    "    Meetings TEXT NULL\n",
    ");"
   ]
  },
  {
   "cell_type": "code",
   "execution_count": 8,
   "metadata": {},
   "outputs": [
    {
     "name": "stdout",
     "output_type": "stream",
     "text": [
      " * sqlite:///CourseDataWarehouseDemo.db\n",
      "Done.\n",
      "Done.\n"
     ]
    },
    {
     "data": {
      "text/plain": [
       "[]"
      ]
     },
     "execution_count": 8,
     "metadata": {},
     "output_type": "execute_result"
    }
   ],
   "source": [
    "%%sql\n",
    "\n",
    "DROP TABLE IF EXISTS CATALOG_COURSE_WH;\n",
    "CREATE TABLE CATALOG_COURSE_WH (\n",
    "    CAID INTEGER PRIMARY KEY,\n",
    "    CatalogID TEXT NOT NULL,\n",
    "    Title TEXT NOT NULL,\n",
    "    Attributes TEXT,\n",
    "    Description TEXT,\n",
    "    Prereqs TEXT\n",
    ");"
   ]
  },
  {
   "cell_type": "code",
   "execution_count": 9,
   "metadata": {},
   "outputs": [
    {
     "name": "stdout",
     "output_type": "stream",
     "text": [
      " * sqlite:///CourseDataWarehouseDemo.db\n",
      "Done.\n",
      "Done.\n"
     ]
    },
    {
     "data": {
      "text/plain": [
       "[]"
      ]
     },
     "execution_count": 9,
     "metadata": {},
     "output_type": "execute_result"
    }
   ],
   "source": [
    "%%sql\n",
    "\n",
    "DROP TABLE IF EXISTS PROGRAM_WH;\n",
    "CREATE TABLE PROGRAM_WH (\n",
    "    PID INTEGER PRIMARY KEY,\n",
    "    ProgramCode TEXT NOT NULL,\n",
    "    ProgramName TEXT NOT NULL\n",
    ");"
   ]
  },
  {
   "cell_type": "code",
   "execution_count": 10,
   "metadata": {},
   "outputs": [
    {
     "name": "stdout",
     "output_type": "stream",
     "text": [
      " * sqlite:///CourseDataWarehouseDemo.db\n",
      "Done.\n",
      "Done.\n"
     ]
    },
    {
     "data": {
      "text/plain": [
       "[]"
      ]
     },
     "execution_count": 10,
     "metadata": {},
     "output_type": "execute_result"
    }
   ],
   "source": [
    "%%sql\n",
    "\n",
    "DROP TABLE IF EXISTS TERM_WH;\n",
    "CREATE TABLE TERM_WH (\n",
    "    TermID INTEGER PRIMARY KEY,\n",
    "    Term TEXT NOT NULL\n",
    ");"
   ]
  },
  {
   "cell_type": "code",
   "execution_count": 11,
   "metadata": {},
   "outputs": [
    {
     "name": "stdout",
     "output_type": "stream",
     "text": [
      " * sqlite:///CourseDataWarehouseDemo.db\n",
      "Done.\n",
      "Done.\n"
     ]
    },
    {
     "data": {
      "text/plain": [
       "[]"
      ]
     },
     "execution_count": 11,
     "metadata": {},
     "output_type": "execute_result"
    }
   ],
   "source": [
    "%%sql\n",
    "\n",
    "DROP TABLE IF EXISTS REG_COURSE_WH;\n",
    "CREATE TABLE REG_COURSE_WH (\n",
    "    COID INTEGER PRIMARY KEY,\n",
    "    TCID INTEGER,\n",
    "    LID INTEGER,\n",
    "    CAID INTEGER,\n",
    "    IID INTEGER,\n",
    "    TermID INTEGER,\n",
    "    PID INTEGER, \n",
    "    Cap INTEGER,\n",
    "    Act INTEGER,\n",
    "    Rem INTEGER,\n",
    "    Credits INTEGER,\n",
    "    Day TEXT,\n",
    "    Start INTEGER,\n",
    "    End INTEGER, \n",
    "    FOREIGN KEY (TCID) REFERENCES TIME_CODE_WH(TCID),\n",
    "    FOREIGN KEY (LID) REFERENCES LOCATION_WH(LID),\n",
    "    FOREIGN KEY (CAID) REFERENCES CATALOG_COURSE_WH(TID),\n",
    "    FOREIGN KEY (IID) REFERENCES INSTRUCTOR_WH(IID),\n",
    "    FOREIGN KEY (TermID) REFERENCES TERM_WH(TermID),\n",
    "    FOREIGN KEY (PID) REFERENCES PROGRAM_WH(PID)\n",
    "    )"
   ]
  },
  {
   "cell_type": "markdown",
   "metadata": {},
   "source": [
    "Inserting data into the tables for the data warehouse to do some queries on and for user use."
   ]
  },
  {
   "cell_type": "code",
   "execution_count": 14,
   "metadata": {},
   "outputs": [
    {
     "name": "stdout",
     "output_type": "stream",
     "text": [
      " * sqlite:///CourseDataWarehouseDemo.db\n",
      "1104 rows affected.\n",
      "1104 rows affected.\n"
     ]
    },
    {
     "data": {
      "text/plain": [
       "[]"
      ]
     },
     "execution_count": 14,
     "metadata": {},
     "output_type": "execute_result"
    }
   ],
   "source": [
    "%%sql\n",
    "\n",
    "DELETE FROM INSTRUCTOR_WH;\n",
    "INSERT INTO INSTRUCTOR_WH (Name)\n",
    "    SELECT DISTINCT db1.INSTRUCTOR.Name\n",
    "    FROM db1.INSTRUCTOR;\n"
   ]
  },
  {
   "cell_type": "code",
   "execution_count": 17,
   "metadata": {},
   "outputs": [
    {
     "name": "stdout",
     "output_type": "stream",
     "text": [
      " * sqlite:///CourseDataWarehouseDemo.db\n",
      "0 rows affected.\n",
      "207 rows affected.\n"
     ]
    },
    {
     "data": {
      "text/plain": [
       "[]"
      ]
     },
     "execution_count": 17,
     "metadata": {},
     "output_type": "execute_result"
    }
   ],
   "source": [
    "%%sql\n",
    "\n",
    "DELETE FROM LOCATION_WH;\n",
    "INSERT INTO LOCATION_WH (LID, Location)\n",
    "    SELECT DISTINCT db1.LOCATION.LID, db1.LOCATION.Location\n",
    "    FROM db1.LOCATION;"
   ]
  },
  {
   "cell_type": "code",
   "execution_count": 18,
   "metadata": {},
   "outputs": [
    {
     "name": "stdout",
     "output_type": "stream",
     "text": [
      " * sqlite:///CourseDataWarehouseDemo.db\n",
      "0 rows affected.\n",
      "12039 rows affected.\n"
     ]
    },
    {
     "data": {
      "text/plain": [
       "[]"
      ]
     },
     "execution_count": 18,
     "metadata": {},
     "output_type": "execute_result"
    }
   ],
   "source": [
    "%%sql\n",
    "\n",
    "DELETE FROM TIME_CODE_WH;\n",
    "INSERT INTO TIME_CODE_WH (Meetings)\n",
    "    SELECT DISTINCT OFFERINGS_COURSE.Meetings\n",
    "    FROM db1.OFFERINGS_COURSE;\n",
    "    "
   ]
  },
  {
   "cell_type": "code",
   "execution_count": 19,
   "metadata": {},
   "outputs": [
    {
     "name": "stdout",
     "output_type": "stream",
     "text": [
      " * sqlite:///CourseDataWarehouseDemo.db\n",
      "0 rows affected.\n",
      "2220 rows affected.\n"
     ]
    },
    {
     "data": {
      "text/plain": [
       "[]"
      ]
     },
     "execution_count": 19,
     "metadata": {},
     "output_type": "execute_result"
    }
   ],
   "source": [
    "%%sql\n",
    "\n",
    "DELETE FROM CATALOG_COURSE_WH;\n",
    "INSERT INTO CATALOG_COURSE_WH (CatalogID, Title, Attributes, Description, Prereqs)\n",
    "    SELECT DISTINCT CatalogID, Title, Attributes, Description, Prereqs\n",
    "    FROM db1.CATALOG_COURSE;"
   ]
  },
  {
   "cell_type": "code",
   "execution_count": 20,
   "metadata": {},
   "outputs": [
    {
     "name": "stdout",
     "output_type": "stream",
     "text": [
      " * sqlite:///CourseDataWarehouseDemo.db\n",
      "0 rows affected.\n",
      "83 rows affected.\n"
     ]
    },
    {
     "data": {
      "text/plain": [
       "[]"
      ]
     },
     "execution_count": 20,
     "metadata": {},
     "output_type": "execute_result"
    }
   ],
   "source": [
    "%%sql\n",
    "\n",
    "DELETE FROM PROGRAM_WH;\n",
    "INSERT INTO PROGRAM_WH (ProgramCode, ProgramName)\n",
    "    SELECT DISTINCT ProgramCode, ProgramName\n",
    "    FROM db1.PROGRAM;"
   ]
  },
  {
   "cell_type": "code",
   "execution_count": 21,
   "metadata": {},
   "outputs": [
    {
     "name": "stdout",
     "output_type": "stream",
     "text": [
      " * sqlite:///CourseDataWarehouseDemo.db\n",
      "0 rows affected.\n",
      "19 rows affected.\n"
     ]
    },
    {
     "data": {
      "text/plain": [
       "[]"
      ]
     },
     "execution_count": 21,
     "metadata": {},
     "output_type": "execute_result"
    }
   ],
   "source": [
    "%%sql\n",
    "\n",
    "DELETE FROM TERM_WH;\n",
    "INSERT INTO TERM_WH (Term)\n",
    "    SELECT DISTINCT Term\n",
    "    FROM db1.OFFERINGS_COURSE;"
   ]
  },
  {
   "cell_type": "code",
   "execution_count": 23,
   "metadata": {},
   "outputs": [
    {
     "name": "stdout",
     "output_type": "stream",
     "text": [
      " * sqlite:///CourseDataWarehouseDemo.db\n",
      "0 rows affected.\n",
      "381524 rows affected.\n"
     ]
    },
    {
     "data": {
      "text/plain": [
       "[]"
      ]
     },
     "execution_count": 23,
     "metadata": {},
     "output_type": "execute_result"
    }
   ],
   "source": [
    "%%sql\n",
    "\n",
    "DELETE FROM REG_COURSE_WH;\n",
    "INSERT INTO REG_COURSE_WH (TCID, LID, CAID, IID, TermID, PID, Cap, Act, Rem, Credits, Day, Start, End)\n",
    "    SELECT DISTINCT db1.MEETINGS_COURSE.CMID, db1.LOCATION.LID, db1.CATALOG_COURSE.CAID,\n",
    "                     db1.INSTRUCTOR.IID, TERM_WH.TermID, db1.PROGRAM.PID, db1.OFFERINGS_COURSE.Cap, \n",
    "                     db1.OFFERINGS_COURSE.Act, db1.OFFERINGS_COURSE.Rem, db1.CATALOG_COURSE.Credits, \n",
    "                     db1.MEETINGS_COURSE.Day, db1.MEETINGS_COURSE.Start, db1.MEETINGS_COURSE.End\n",
    "FROM db1.OFFERINGS_COURSE\n",
    "        LEFT JOIN db1.CATALOG_COURSE ON (OFFERINGS_COURSE.CatalogID = CATALOG_COURSE.CatalogID)\n",
    "        LEFT JOIN db1.PROGRAM ON (CATALOG_COURSE.ProgramName = PROGRAM.ProgramName)\n",
    "        LEFT JOIN db1.INSTRUCTOR ON (OFFERINGS_COURSE.Name = INSTRUCTOR.Name)\n",
    "        LEFT JOIN db1.MEETINGS_COURSE ON (OFFERINGS_COURSE.CRN = MEETINGS_COURSE.CRN)\n",
    "        LEFT JOIN db1.LOCATION ON (MEETINGS_COURSE.Location = LOCATION.Location)\n",
    "        LEFT JOIN TERM_WH ON (OFFERINGS_COURSE.Term = TERM_WH.Term);\n",
    "    "
   ]
  },
  {
   "cell_type": "code",
   "execution_count": 24,
   "metadata": {},
   "outputs": [
    {
     "name": "stdout",
     "output_type": "stream",
     "text": [
      " * sqlite:///CourseDataWarehouseDemo.db\n",
      "Done.\n"
     ]
    },
    {
     "data": {
      "text/html": [
       "<table>\n",
       "    <tr>\n",
       "        <th>CMID</th>\n",
       "        <th>LID</th>\n",
       "        <th>CAID</th>\n",
       "        <th>Name</th>\n",
       "        <th>TermID</th>\n",
       "        <th>PID</th>\n",
       "        <th>Cap</th>\n",
       "        <th>Act</th>\n",
       "        <th>Rem</th>\n",
       "        <th>Credits</th>\n",
       "        <th>Day</th>\n",
       "        <th>Start</th>\n",
       "        <th>End</th>\n",
       "    </tr>\n",
       "    <tr>\n",
       "        <td>2</td>\n",
       "        <td>1</td>\n",
       "        <td>113</td>\n",
       "        <td>None</td>\n",
       "        <td>1</td>\n",
       "        <td>12</td>\n",
       "        <td>0</td>\n",
       "        <td>31</td>\n",
       "        <td>-31</td>\n",
       "        <td>3 Credits</td>\n",
       "        <td>F</td>\n",
       "        <td>2014-09-05T08:00:00</td>\n",
       "        <td>2014-09-05T09:15:00</td>\n",
       "    </tr>\n",
       "    <tr>\n",
       "        <td>4</td>\n",
       "        <td>1</td>\n",
       "        <td>113</td>\n",
       "        <td>None</td>\n",
       "        <td>1</td>\n",
       "        <td>12</td>\n",
       "        <td>0</td>\n",
       "        <td>31</td>\n",
       "        <td>-31</td>\n",
       "        <td>3 Credits</td>\n",
       "        <td>F</td>\n",
       "        <td>2014-09-12T08:00:00</td>\n",
       "        <td>2014-09-12T09:15:00</td>\n",
       "    </tr>\n",
       "    <tr>\n",
       "        <td>6</td>\n",
       "        <td>1</td>\n",
       "        <td>113</td>\n",
       "        <td>None</td>\n",
       "        <td>1</td>\n",
       "        <td>12</td>\n",
       "        <td>0</td>\n",
       "        <td>31</td>\n",
       "        <td>-31</td>\n",
       "        <td>3 Credits</td>\n",
       "        <td>F</td>\n",
       "        <td>2014-09-19T08:00:00</td>\n",
       "        <td>2014-09-19T09:15:00</td>\n",
       "    </tr>\n",
       "    <tr>\n",
       "        <td>8</td>\n",
       "        <td>1</td>\n",
       "        <td>113</td>\n",
       "        <td>None</td>\n",
       "        <td>1</td>\n",
       "        <td>12</td>\n",
       "        <td>0</td>\n",
       "        <td>31</td>\n",
       "        <td>-31</td>\n",
       "        <td>3 Credits</td>\n",
       "        <td>F</td>\n",
       "        <td>2014-09-26T08:00:00</td>\n",
       "        <td>2014-09-26T09:15:00</td>\n",
       "    </tr>\n",
       "    <tr>\n",
       "        <td>10</td>\n",
       "        <td>1</td>\n",
       "        <td>113</td>\n",
       "        <td>None</td>\n",
       "        <td>1</td>\n",
       "        <td>12</td>\n",
       "        <td>0</td>\n",
       "        <td>31</td>\n",
       "        <td>-31</td>\n",
       "        <td>3 Credits</td>\n",
       "        <td>F</td>\n",
       "        <td>2014-10-03T08:00:00</td>\n",
       "        <td>2014-10-03T09:15:00</td>\n",
       "    </tr>\n",
       "    <tr>\n",
       "        <td>12</td>\n",
       "        <td>1</td>\n",
       "        <td>113</td>\n",
       "        <td>None</td>\n",
       "        <td>1</td>\n",
       "        <td>12</td>\n",
       "        <td>0</td>\n",
       "        <td>31</td>\n",
       "        <td>-31</td>\n",
       "        <td>3 Credits</td>\n",
       "        <td>F</td>\n",
       "        <td>2014-10-10T08:00:00</td>\n",
       "        <td>2014-10-10T09:15:00</td>\n",
       "    </tr>\n",
       "    <tr>\n",
       "        <td>13</td>\n",
       "        <td>1</td>\n",
       "        <td>113</td>\n",
       "        <td>None</td>\n",
       "        <td>1</td>\n",
       "        <td>12</td>\n",
       "        <td>0</td>\n",
       "        <td>31</td>\n",
       "        <td>-31</td>\n",
       "        <td>3 Credits</td>\n",
       "        <td>F</td>\n",
       "        <td>2014-10-17T08:00:00</td>\n",
       "        <td>2014-10-17T09:15:00</td>\n",
       "    </tr>\n",
       "    <tr>\n",
       "        <td>15</td>\n",
       "        <td>1</td>\n",
       "        <td>113</td>\n",
       "        <td>None</td>\n",
       "        <td>1</td>\n",
       "        <td>12</td>\n",
       "        <td>0</td>\n",
       "        <td>31</td>\n",
       "        <td>-31</td>\n",
       "        <td>3 Credits</td>\n",
       "        <td>F</td>\n",
       "        <td>2014-10-24T08:00:00</td>\n",
       "        <td>2014-10-24T09:15:00</td>\n",
       "    </tr>\n",
       "    <tr>\n",
       "        <td>17</td>\n",
       "        <td>1</td>\n",
       "        <td>113</td>\n",
       "        <td>None</td>\n",
       "        <td>1</td>\n",
       "        <td>12</td>\n",
       "        <td>0</td>\n",
       "        <td>31</td>\n",
       "        <td>-31</td>\n",
       "        <td>3 Credits</td>\n",
       "        <td>F</td>\n",
       "        <td>2014-10-31T08:00:00</td>\n",
       "        <td>2014-10-31T09:15:00</td>\n",
       "    </tr>\n",
       "    <tr>\n",
       "        <td>19</td>\n",
       "        <td>1</td>\n",
       "        <td>113</td>\n",
       "        <td>None</td>\n",
       "        <td>1</td>\n",
       "        <td>12</td>\n",
       "        <td>0</td>\n",
       "        <td>31</td>\n",
       "        <td>-31</td>\n",
       "        <td>3 Credits</td>\n",
       "        <td>F</td>\n",
       "        <td>2014-11-07T08:00:00</td>\n",
       "        <td>2014-11-07T09:15:00</td>\n",
       "    </tr>\n",
       "    <tr>\n",
       "        <td>21</td>\n",
       "        <td>1</td>\n",
       "        <td>113</td>\n",
       "        <td>None</td>\n",
       "        <td>1</td>\n",
       "        <td>12</td>\n",
       "        <td>0</td>\n",
       "        <td>31</td>\n",
       "        <td>-31</td>\n",
       "        <td>3 Credits</td>\n",
       "        <td>F</td>\n",
       "        <td>2014-11-14T08:00:00</td>\n",
       "        <td>2014-11-14T09:15:00</td>\n",
       "    </tr>\n",
       "    <tr>\n",
       "        <td>23</td>\n",
       "        <td>1</td>\n",
       "        <td>113</td>\n",
       "        <td>None</td>\n",
       "        <td>1</td>\n",
       "        <td>12</td>\n",
       "        <td>0</td>\n",
       "        <td>31</td>\n",
       "        <td>-31</td>\n",
       "        <td>3 Credits</td>\n",
       "        <td>F</td>\n",
       "        <td>2014-11-21T08:00:00</td>\n",
       "        <td>2014-11-21T09:15:00</td>\n",
       "    </tr>\n",
       "    <tr>\n",
       "        <td>26</td>\n",
       "        <td>1</td>\n",
       "        <td>113</td>\n",
       "        <td>None</td>\n",
       "        <td>1</td>\n",
       "        <td>12</td>\n",
       "        <td>0</td>\n",
       "        <td>31</td>\n",
       "        <td>-31</td>\n",
       "        <td>3 Credits</td>\n",
       "        <td>F</td>\n",
       "        <td>2014-12-05T08:00:00</td>\n",
       "        <td>2014-12-05T09:15:00</td>\n",
       "    </tr>\n",
       "    <tr>\n",
       "        <td>1</td>\n",
       "        <td>1</td>\n",
       "        <td>113</td>\n",
       "        <td>None</td>\n",
       "        <td>1</td>\n",
       "        <td>12</td>\n",
       "        <td>0</td>\n",
       "        <td>31</td>\n",
       "        <td>-31</td>\n",
       "        <td>3 Credits</td>\n",
       "        <td>T</td>\n",
       "        <td>2014-09-02T08:00:00</td>\n",
       "        <td>2014-09-02T09:15:00</td>\n",
       "    </tr>\n",
       "    <tr>\n",
       "        <td>3</td>\n",
       "        <td>1</td>\n",
       "        <td>113</td>\n",
       "        <td>None</td>\n",
       "        <td>1</td>\n",
       "        <td>12</td>\n",
       "        <td>0</td>\n",
       "        <td>31</td>\n",
       "        <td>-31</td>\n",
       "        <td>3 Credits</td>\n",
       "        <td>T</td>\n",
       "        <td>2014-09-09T08:00:00</td>\n",
       "        <td>2014-09-09T09:15:00</td>\n",
       "    </tr>\n",
       "    <tr>\n",
       "        <td>5</td>\n",
       "        <td>1</td>\n",
       "        <td>113</td>\n",
       "        <td>None</td>\n",
       "        <td>1</td>\n",
       "        <td>12</td>\n",
       "        <td>0</td>\n",
       "        <td>31</td>\n",
       "        <td>-31</td>\n",
       "        <td>3 Credits</td>\n",
       "        <td>T</td>\n",
       "        <td>2014-09-16T08:00:00</td>\n",
       "        <td>2014-09-16T09:15:00</td>\n",
       "    </tr>\n",
       "    <tr>\n",
       "        <td>7</td>\n",
       "        <td>1</td>\n",
       "        <td>113</td>\n",
       "        <td>None</td>\n",
       "        <td>1</td>\n",
       "        <td>12</td>\n",
       "        <td>0</td>\n",
       "        <td>31</td>\n",
       "        <td>-31</td>\n",
       "        <td>3 Credits</td>\n",
       "        <td>T</td>\n",
       "        <td>2014-09-23T08:00:00</td>\n",
       "        <td>2014-09-23T09:15:00</td>\n",
       "    </tr>\n",
       "    <tr>\n",
       "        <td>9</td>\n",
       "        <td>1</td>\n",
       "        <td>113</td>\n",
       "        <td>None</td>\n",
       "        <td>1</td>\n",
       "        <td>12</td>\n",
       "        <td>0</td>\n",
       "        <td>31</td>\n",
       "        <td>-31</td>\n",
       "        <td>3 Credits</td>\n",
       "        <td>T</td>\n",
       "        <td>2014-09-30T08:00:00</td>\n",
       "        <td>2014-09-30T09:15:00</td>\n",
       "    </tr>\n",
       "    <tr>\n",
       "        <td>11</td>\n",
       "        <td>1</td>\n",
       "        <td>113</td>\n",
       "        <td>None</td>\n",
       "        <td>1</td>\n",
       "        <td>12</td>\n",
       "        <td>0</td>\n",
       "        <td>31</td>\n",
       "        <td>-31</td>\n",
       "        <td>3 Credits</td>\n",
       "        <td>T</td>\n",
       "        <td>2014-10-07T08:00:00</td>\n",
       "        <td>2014-10-07T09:15:00</td>\n",
       "    </tr>\n",
       "    <tr>\n",
       "        <td>14</td>\n",
       "        <td>1</td>\n",
       "        <td>113</td>\n",
       "        <td>None</td>\n",
       "        <td>1</td>\n",
       "        <td>12</td>\n",
       "        <td>0</td>\n",
       "        <td>31</td>\n",
       "        <td>-31</td>\n",
       "        <td>3 Credits</td>\n",
       "        <td>T</td>\n",
       "        <td>2014-10-21T08:00:00</td>\n",
       "        <td>2014-10-21T09:15:00</td>\n",
       "    </tr>\n",
       "</table>"
      ],
      "text/plain": [
       "[(2, 1, 113, None, 1, 12, 0, 31, -31, '3 Credits', 'F', '2014-09-05T08:00:00', '2014-09-05T09:15:00'),\n",
       " (4, 1, 113, None, 1, 12, 0, 31, -31, '3 Credits', 'F', '2014-09-12T08:00:00', '2014-09-12T09:15:00'),\n",
       " (6, 1, 113, None, 1, 12, 0, 31, -31, '3 Credits', 'F', '2014-09-19T08:00:00', '2014-09-19T09:15:00'),\n",
       " (8, 1, 113, None, 1, 12, 0, 31, -31, '3 Credits', 'F', '2014-09-26T08:00:00', '2014-09-26T09:15:00'),\n",
       " (10, 1, 113, None, 1, 12, 0, 31, -31, '3 Credits', 'F', '2014-10-03T08:00:00', '2014-10-03T09:15:00'),\n",
       " (12, 1, 113, None, 1, 12, 0, 31, -31, '3 Credits', 'F', '2014-10-10T08:00:00', '2014-10-10T09:15:00'),\n",
       " (13, 1, 113, None, 1, 12, 0, 31, -31, '3 Credits', 'F', '2014-10-17T08:00:00', '2014-10-17T09:15:00'),\n",
       " (15, 1, 113, None, 1, 12, 0, 31, -31, '3 Credits', 'F', '2014-10-24T08:00:00', '2014-10-24T09:15:00'),\n",
       " (17, 1, 113, None, 1, 12, 0, 31, -31, '3 Credits', 'F', '2014-10-31T08:00:00', '2014-10-31T09:15:00'),\n",
       " (19, 1, 113, None, 1, 12, 0, 31, -31, '3 Credits', 'F', '2014-11-07T08:00:00', '2014-11-07T09:15:00'),\n",
       " (21, 1, 113, None, 1, 12, 0, 31, -31, '3 Credits', 'F', '2014-11-14T08:00:00', '2014-11-14T09:15:00'),\n",
       " (23, 1, 113, None, 1, 12, 0, 31, -31, '3 Credits', 'F', '2014-11-21T08:00:00', '2014-11-21T09:15:00'),\n",
       " (26, 1, 113, None, 1, 12, 0, 31, -31, '3 Credits', 'F', '2014-12-05T08:00:00', '2014-12-05T09:15:00'),\n",
       " (1, 1, 113, None, 1, 12, 0, 31, -31, '3 Credits', 'T', '2014-09-02T08:00:00', '2014-09-02T09:15:00'),\n",
       " (3, 1, 113, None, 1, 12, 0, 31, -31, '3 Credits', 'T', '2014-09-09T08:00:00', '2014-09-09T09:15:00'),\n",
       " (5, 1, 113, None, 1, 12, 0, 31, -31, '3 Credits', 'T', '2014-09-16T08:00:00', '2014-09-16T09:15:00'),\n",
       " (7, 1, 113, None, 1, 12, 0, 31, -31, '3 Credits', 'T', '2014-09-23T08:00:00', '2014-09-23T09:15:00'),\n",
       " (9, 1, 113, None, 1, 12, 0, 31, -31, '3 Credits', 'T', '2014-09-30T08:00:00', '2014-09-30T09:15:00'),\n",
       " (11, 1, 113, None, 1, 12, 0, 31, -31, '3 Credits', 'T', '2014-10-07T08:00:00', '2014-10-07T09:15:00'),\n",
       " (14, 1, 113, None, 1, 12, 0, 31, -31, '3 Credits', 'T', '2014-10-21T08:00:00', '2014-10-21T09:15:00')]"
      ]
     },
     "execution_count": 24,
     "metadata": {},
     "output_type": "execute_result"
    }
   ],
   "source": [
    "%%sql\n",
    "\n",
    "SELECT CMID, LOCATION.LID, CATALOG_COURSE.CAID, INSTRUCTOR.Name, TERM_WH.TermID, PROGRAM.PID, OFFERINGS_COURSE.Cap, \n",
    "                    OFFERINGS_COURSE.Act, OFFERINGS_COURSE.Rem, CATALOG_COURSE.Credits, MEETINGS_COURSE.Day, \n",
    "                    MEETINGS_COURSE.Start, MEETINGS_COURSE.End\n",
    "FROM db1.OFFERINGS_COURSE\n",
    "        LEFT JOIN db1.CATALOG_COURSE ON (OFFERINGS_COURSE.CatalogID = CATALOG_COURSE.CatalogID)\n",
    "        LEFT JOIN db1.PROGRAM ON (CATALOG_COURSE.ProgramName = PROGRAM.ProgramName)\n",
    "        LEFT JOIN db1.INSTRUCTOR ON (OFFERINGS_COURSE.Name = INSTRUCTOR.Name)\n",
    "        LEFT JOIN db1.MEETINGS_COURSE ON (OFFERINGS_COURSE.CRN = MEETINGS_COURSE.CRN)\n",
    "        LEFT JOIN db1.LOCATION ON (MEETINGS_COURSE.Location = LOCATION.Location)\n",
    "        LEFT JOIN TERM_WH ON (OFFERINGS_COURSE.Term = TERM_WH.Term)\n",
    "LIMIT 20;\n"
   ]
  },
  {
   "cell_type": "code",
   "execution_count": 25,
   "metadata": {},
   "outputs": [
    {
     "name": "stdout",
     "output_type": "stream",
     "text": [
      " * sqlite:///CourseDataWarehouseDemo.db\n",
      "Done.\n"
     ]
    },
    {
     "data": {
      "text/html": [
       "<table>\n",
       "    <tr>\n",
       "        <th>COUNT(*)</th>\n",
       "    </tr>\n",
       "    <tr>\n",
       "        <td>15243</td>\n",
       "    </tr>\n",
       "</table>"
      ],
      "text/plain": [
       "[(15243,)]"
      ]
     },
     "execution_count": 25,
     "metadata": {},
     "output_type": "execute_result"
    }
   ],
   "source": [
    "%%sql\n",
    "\n",
    "    SELECT COUNT(*)\n",
    "    FROM db1.OFFERINGS_COURSE\n",
    "        LEFT JOIN db1.CATALOG_COURSE ON (OFFERINGS_COURSE.CatalogID = CATALOG_COURSE.CatalogID)\n",
    "            INNER JOIN CATALOG_COURSE_WH ON (CATALOG_COURSE.CatalogID = CATALOG_COURSE_WH.CatalogID)\n",
    "        "
   ]
  },
  {
   "cell_type": "code",
   "execution_count": 27,
   "metadata": {},
   "outputs": [
    {
     "name": "stdout",
     "output_type": "stream",
     "text": [
      " * sqlite:///CourseDataWarehouseDemo.db\n",
      "Done.\n"
     ]
    },
    {
     "data": {
      "text/html": [
       "<table>\n",
       "    <tr>\n",
       "        <th>count(*)</th>\n",
       "    </tr>\n",
       "    <tr>\n",
       "        <td>381524</td>\n",
       "    </tr>\n",
       "</table>"
      ],
      "text/plain": [
       "[(381524,)]"
      ]
     },
     "execution_count": 27,
     "metadata": {},
     "output_type": "execute_result"
    }
   ],
   "source": [
    "%%sql\n",
    "\n",
    "select count(*) from REG_COURSE_WH;"
   ]
  },
  {
   "cell_type": "markdown",
   "metadata": {},
   "source": [
    "Vacuum"
   ]
  },
  {
   "cell_type": "code",
   "execution_count": 28,
   "metadata": {},
   "outputs": [
    {
     "name": "stdout",
     "output_type": "stream",
     "text": [
      " * sqlite:///CourseDataWarehouseDemo.db\n",
      "Done.\n"
     ]
    },
    {
     "data": {
      "text/plain": [
       "[]"
      ]
     },
     "execution_count": 28,
     "metadata": {},
     "output_type": "execute_result"
    }
   ],
   "source": [
    "%%sql\n",
    "\n",
    "vacuum;"
   ]
  }
 ],
 "metadata": {
  "kernelspec": {
   "display_name": "Python 3",
   "language": "python",
   "name": "python3"
  },
  "language_info": {
   "codemirror_mode": {
    "name": "ipython",
    "version": 3
   },
   "file_extension": ".py",
   "mimetype": "text/x-python",
   "name": "python",
   "nbconvert_exporter": "python",
   "pygments_lexer": "ipython3",
   "version": "3.6.7"
  }
 },
 "nbformat": 4,
 "nbformat_minor": 4
}
