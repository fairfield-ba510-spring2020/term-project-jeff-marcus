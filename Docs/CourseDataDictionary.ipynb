{
 "cells": [
  {
   "cell_type": "markdown",
   "metadata": {},
   "source": [
    "# <u><big><b>Course Data Dictionary</b> </big></u>"
   ]
  },
  {
   "cell_type": "markdown",
   "metadata": {},
   "source": [
    "## INSTRUCTOR Table:\n"
   ]
  },
  {
   "cell_type": "markdown",
   "metadata": {},
   "source": [
    "- <b>IID</b>: This column is an auto-incremented primary key to uniquely identify each instructor.\n",
    "- <b>Name</b>: This column provides a list of each unique instructor in the database."
   ]
  },
  {
   "cell_type": "markdown",
   "metadata": {},
   "source": [
    "## LOCATION Table:"
   ]
  },
  {
   "cell_type": "markdown",
   "metadata": {},
   "source": [
    "- <b>LID</b>: This column is an auto-incremented primary key to uniquely identify each location.\n",
    "- <b>Location</b>: This column provides a list of each unique location in the database."
   ]
  },
  {
   "cell_type": "markdown",
   "metadata": {},
   "source": [
    "## PROGRAM Table:"
   ]
  },
  {
   "cell_type": "markdown",
   "metadata": {},
   "source": [
    "- <b>PID</b>: This column is an auto-incremented primary key to uniquely identify each location.\n",
    "- <b>ProgramCode</b>: This column provides a list of each unique program code in the database.\n",
    "- <b>ProgramName</b>: This column provides a list of each unique program name in the database."
   ]
  },
  {
   "cell_type": "markdown",
   "metadata": {},
   "source": [
    "## CATALOG_COURSE Table:"
   ]
  },
  {
   "cell_type": "markdown",
   "metadata": {},
   "source": [
    "- <b>CAID</b>: This column is an auto-incremented primary key to uniquely identify each catalog course.\n",
    "- <b>CatalogID</b>: This column provides a list of each catalog ID associated with each program from the PROGRAM table.\n",
    "- <b>ProgramName</b>: This column is a foreign key reference to the PROGRAM table to define the program for each instance of CAID.\n",
    "- <b>Credits</b>: This column provides the number of course credits associated with each catalog course.\n",
    "- <b>Title</b>: This column provides the title for each catalog course.\n",
    "- <b>Attributes</b>: This column provides programs related to each one catalog course\n",
    "- <b>Description</b>: This column provides a description of each catalog course selection.\n",
    "- <b>Pre-reqs</b>: This column provides any (if applicable) pre-requisites for each catalog course."
   ]
  },
  {
   "cell_type": "markdown",
   "metadata": {},
   "source": [
    "## OFFERINGS_COURSE Table:"
   ]
  },
  {
   "cell_type": "markdown",
   "metadata": {},
   "source": [
    "- <b>COID</b>: This column is an auto-incremented primary key to uniquely identify each course offering.\n",
    "- <b>CatalogID</b>: This column is a foreign key reference to the CATALOG_COURSE table to define each catalog associated with each instance of COID.\n",
    "- <b>Name</b>: This column is a foreign key reference to the INSTRUCTOR table to define instructor name's associated with each instance of COID.\n",
    "- <b>Meetings</b>: This column identifies the different meeting dates and times associated with each course offering. \n",
    "- <b>CRN</b>: This column identifies uniquely identifies each course number associated with each course offering.\n",
    "- <b>Term</b>: This column identifies which school term is associated with each course offering.\n",
    "- <b>Section</b>: This column identifies which section is associated with each course offering.\n",
    "- <b>Cap</b>: This column identifies the max number of registrations for each course offering.\n",
    "- <b>Act</b>: This column identifies the current number of registrations for each course offering.\n",
    "- <b>Rem</b>: This column identifies the remaining available registration spots associated with each course offering."
   ]
  },
  {
   "cell_type": "markdown",
   "metadata": {},
   "source": [
    "## MEETINGS_COURSE Table:"
   ]
  },
  {
   "cell_type": "markdown",
   "metadata": {},
   "source": [
    "- <b>CMID</b>: This column is an auto-incremented primary key to uniquely identify each course meeting.\n",
    "- <b>CRN</b>: This column is a foreign key reference to the OFFERINGS_COURSE table to define the course each meeting is for.\n",
    "- <b>Location</b>: This column is a foreign key reference to the LOCATION table to define the location for each meeting.\n",
    "- <b>Day</b>: This column provides the day (M - F) that each course meeting takes place on.\n",
    "- <b>Start</b>: This column provides the starting date & time the course meets.\n",
    "- <b>End</b>: This column provides the last date & time that the course meets."
   ]
  },
  {
   "cell_type": "code",
   "execution_count": null,
   "metadata": {},
   "outputs": [],
   "source": []
  }
 ],
 "metadata": {
  "kernelspec": {
   "display_name": "Python 3",
   "language": "python",
   "name": "python3"
  },
  "language_info": {
   "codemirror_mode": {
    "name": "ipython",
    "version": 3
   },
   "file_extension": ".py",
   "mimetype": "text/x-python",
   "name": "python",
   "nbconvert_exporter": "python",
   "pygments_lexer": "ipython3",
   "version": "3.6.7"
  }
 },
 "nbformat": 4,
 "nbformat_minor": 4
}
