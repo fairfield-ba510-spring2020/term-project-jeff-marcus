{
 "cells": [
  {
   "cell_type": "markdown",
   "metadata": {},
   "source": [
    "<big><b>Step 1:</b> Load the SQL extension</big>"
   ]
  },
  {
   "cell_type": "code",
   "execution_count": null,
   "metadata": {},
   "outputs": [],
   "source": [
    "%load_ext sql"
   ]
  },
  {
   "cell_type": "markdown",
   "metadata": {},
   "source": [
    "<big><b>Step 2</b>: Connect sqlite to coursedatawarehouse database</big>"
   ]
  },
  {
   "cell_type": "code",
   "execution_count": 24,
   "metadata": {},
   "outputs": [
    {
     "data": {
      "text/plain": [
       "'Connected: @CourseDataWarehouseDemo.db'"
      ]
     },
     "execution_count": 24,
     "metadata": {},
     "output_type": "execute_result"
    }
   ],
   "source": [
    "%%sql\n",
    "\n",
    "sqlite:///CourseDataWarehouseDemo.db"
   ]
  },
  {
   "cell_type": "markdown",
   "metadata": {},
   "source": [
    "<big><b>Step 3</b>: Query test</big>"
   ]
  },
  {
   "cell_type": "markdown",
   "metadata": {},
   "source": [
    "<b> Scenario 1 <b>: Finding the details of which instructor taught the course that meets the most times in Spring 2019. "
   ]
  },
  {
   "cell_type": "code",
   "execution_count": 73,
   "metadata": {},
   "outputs": [
    {
     "name": "stdout",
     "output_type": "stream",
     "text": [
      "   sqlite:///CourseData.db\n",
      " * sqlite:///CourseDataWarehouseDemo.db\n",
      "Done.\n"
     ]
    },
    {
     "data": {
      "text/html": [
       "<table>\n",
       "    <tr>\n",
       "        <th>IID</th>\n",
       "        <th>Name</th>\n",
       "        <th>Term</th>\n",
       "        <th>Title</th>\n",
       "        <th>Cnt</th>\n",
       "    </tr>\n",
       "    <tr>\n",
       "        <td>892</td>\n",
       "        <td>Ellen M.  Lee</td>\n",
       "        <td>Spring2019</td>\n",
       "        <td>Romantic Love in Greek and Roman Literature</td>\n",
       "        <td>152</td>\n",
       "    </tr>\n",
       "    <tr>\n",
       "        <td>70</td>\n",
       "        <td>Sharlene A.  McEvoy</td>\n",
       "        <td>Spring2019</td>\n",
       "        <td>Legal Environment of Business</td>\n",
       "        <td>150</td>\n",
       "    </tr>\n",
       "    <tr>\n",
       "        <td>552</td>\n",
       "        <td>Anne E  Campbell</td>\n",
       "        <td>Spring2019</td>\n",
       "        <td>World Language Methods</td>\n",
       "        <td>130</td>\n",
       "    </tr>\n",
       "    <tr>\n",
       "        <td>274</td>\n",
       "        <td>Vishnu V.  Vinekar</td>\n",
       "        <td>Spring2019</td>\n",
       "        <td>Introduction to Information Systems</td>\n",
       "        <td>130</td>\n",
       "    </tr>\n",
       "    <tr>\n",
       "        <td>577</td>\n",
       "        <td>Jillian E.  Smith-Carpenter</td>\n",
       "        <td>Spring2019</td>\n",
       "        <td>Biochemistry I</td>\n",
       "        <td>127</td>\n",
       "    </tr>\n",
       "</table>"
      ],
      "text/plain": [
       "[(892, 'Ellen M.  Lee', 'Spring2019', 'Romantic Love in Greek and Roman Literature', 152),\n",
       " (70, 'Sharlene A.  McEvoy', 'Spring2019', 'Legal Environment of Business', 150),\n",
       " (552, 'Anne E  Campbell', 'Spring2019', 'World Language Methods', 130),\n",
       " (274, 'Vishnu V.  Vinekar', 'Spring2019', 'Introduction to Information Systems', 130),\n",
       " (577, 'Jillian E.  Smith-Carpenter', 'Spring2019', 'Biochemistry I', 127)]"
      ]
     },
     "execution_count": 73,
     "metadata": {},
     "output_type": "execute_result"
    }
   ],
   "source": [
    "%%sql\n",
    "\n",
    "SELECT I.IID, I.Name, T.Term, CC.Title, COUNT(CC.Title)/2 AS Cnt\n",
    "FROM REG_COURSE_WH AS RC\n",
    "    JOIN INSTRUCTOR_WH AS I ON (RC.IID = I.IID)\n",
    "    JOIN TERM_WH AS T ON (RC.TermID = T.TermID)\n",
    "    JOIN CATALOG_COURSE_WH AS CC ON (CC.CAID = RC.CAID)\n",
    "WHERE Term = 'Spring2019'\n",
    "GROUP BY I.Name, Term\n",
    "ORDER BY Cnt Desc\n",
    "LIMIT 5;"
   ]
  },
  {
   "cell_type": "markdown",
   "metadata": {},
   "source": [
    "<b>What other courses did this instructor teach in Spring 2019?</b>"
   ]
  },
  {
   "cell_type": "code",
   "execution_count": 74,
   "metadata": {},
   "outputs": [
    {
     "name": "stdout",
     "output_type": "stream",
     "text": [
      "   sqlite:///CourseData.db\n",
      " * sqlite:///CourseDataWarehouseDemo.db\n",
      "Done.\n"
     ]
    },
    {
     "data": {
      "text/html": [
       "<table>\n",
       "    <tr>\n",
       "        <th>Title</th>\n",
       "        <th>Name</th>\n",
       "        <th>Term</th>\n",
       "    </tr>\n",
       "    <tr>\n",
       "        <td>Romantic Love in Greek and Roman Literature</td>\n",
       "        <td>Ellen M.  Lee</td>\n",
       "        <td>Spring2019</td>\n",
       "    </tr>\n",
       "    <tr>\n",
       "        <td>Honors Seminar</td>\n",
       "        <td>Ellen M.  Lee</td>\n",
       "        <td>Spring2019</td>\n",
       "    </tr>\n",
       "    <tr>\n",
       "        <td>Readings in Latin Prose and Poetry II</td>\n",
       "        <td>Ellen M.  Lee</td>\n",
       "        <td>Spring2019</td>\n",
       "    </tr>\n",
       "</table>"
      ],
      "text/plain": [
       "[('Romantic Love in Greek and Roman Literature', 'Ellen M.  Lee', 'Spring2019'),\n",
       " ('Honors Seminar', 'Ellen M.  Lee', 'Spring2019'),\n",
       " ('Readings in Latin Prose and Poetry II', 'Ellen M.  Lee', 'Spring2019')]"
      ]
     },
     "execution_count": 74,
     "metadata": {},
     "output_type": "execute_result"
    }
   ],
   "source": [
    "%%sql\n",
    "\n",
    "SELECT DISTINCT CC.Title, I.Name, Term\n",
    "FROM REG_COURSE_WH AS RC\n",
    "    JOIN INSTRUCTOR_WH AS I ON (RC.IID = I.IID)\n",
    "    JOIN CATALOG_COURSE_WH AS CC ON (CC.CAID = RC.CAID)\n",
    "    JOIN TERM_WH AS T ON (RC.TermID = T.TermID)\n",
    "WHERE I.IID = 892 AND T.Term = 'Spring2019';"
   ]
  },
  {
   "cell_type": "markdown",
   "metadata": {},
   "source": [
    "<b>What was the average remaining number of open spots in Readings in Latin Prose and Poetry II? </b>"
   ]
  },
  {
   "cell_type": "code",
   "execution_count": 83,
   "metadata": {},
   "outputs": [
    {
     "name": "stdout",
     "output_type": "stream",
     "text": [
      "   sqlite:///CourseData.db\n",
      " * sqlite:///CourseDataWarehouseDemo.db\n",
      "Done.\n"
     ]
    },
    {
     "data": {
      "text/html": [
       "<table>\n",
       "    <tr>\n",
       "        <th>Title</th>\n",
       "        <th>Max</th>\n",
       "        <th>Filled</th>\n",
       "        <th>Open</th>\n",
       "    </tr>\n",
       "    <tr>\n",
       "        <td>Readings in Latin Prose and Poetry II</td>\n",
       "        <td>23.383084577114428</td>\n",
       "        <td>19.855721393034827</td>\n",
       "        <td>3.527363184079602</td>\n",
       "    </tr>\n",
       "</table>"
      ],
      "text/plain": [
       "[('Readings in Latin Prose and Poetry II', 23.383084577114428, 19.855721393034827, 3.527363184079602)]"
      ]
     },
     "execution_count": 83,
     "metadata": {},
     "output_type": "execute_result"
    }
   ],
   "source": [
    "%%sql\n",
    "\n",
    "SELECT CC.Title, AVG(RC.Cap) AS Max, AVG(RC.Act) AS Filled, AVG(RC.Rem) AS Open\n",
    "FROM REG_COURSE_WH AS RC\n",
    "       JOIN CATALOG_COURSE_WH AS CC ON (CC.CAID = RC.CAID)\n",
    "WHERE CC.Title = 'Readings in Latin Prose and Poetry II'\n",
    "GROUP BY CC.Title;"
   ]
  },
  {
   "cell_type": "markdown",
   "metadata": {},
   "source": [
    "<b>We can conclude that there is an average of ~23 spots in each Readings in Latin Prose and Poetry II class, with an average of 20 spots taken, and an average of 3.5 spots open."
   ]
  }
 ],
 "metadata": {
  "kernelspec": {
   "display_name": "Python 3",
   "language": "python",
   "name": "python3"
  },
  "language_info": {
   "codemirror_mode": {
    "name": "ipython",
    "version": 3
   },
   "file_extension": ".py",
   "mimetype": "text/x-python",
   "name": "python",
   "nbconvert_exporter": "python",
   "pygments_lexer": "ipython3",
   "version": "3.6.7"
  }
 },
 "nbformat": 4,
 "nbformat_minor": 4
}
