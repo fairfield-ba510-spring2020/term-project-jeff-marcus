{
 "cells": [
  {
   "cell_type": "markdown",
   "metadata": {},
   "source": [
    "<big><b>Step 1:</b> Load the SQL extension</big>"
   ]
  },
  {
   "cell_type": "code",
   "execution_count": 1,
   "metadata": {},
   "outputs": [],
   "source": [
    "%load_ext sql"
   ]
  },
  {
   "cell_type": "markdown",
   "metadata": {},
   "source": [
    "<big><b>Step 2</b>: Connect sqlite to coursedata database</big>"
   ]
  },
  {
   "cell_type": "code",
   "execution_count": 2,
   "metadata": {},
   "outputs": [
    {
     "data": {
      "text/plain": [
       "'Connected: @CourseData.db'"
      ]
     },
     "execution_count": 2,
     "metadata": {},
     "output_type": "execute_result"
    }
   ],
   "source": [
    "%%sql\n",
    "\n",
    "sqlite:///CourseData.db"
   ]
  },
  {
   "cell_type": "markdown",
   "metadata": {},
   "source": [
    "<big><b>Step 3</b>: Determine columns within the dataset so that we can import this information to the appropriate tables </big>"
   ]
  },
  {
   "cell_type": "code",
   "execution_count": 3,
   "metadata": {},
   "outputs": [
    {
     "name": "stdout",
     "output_type": "stream",
     "text": [
      " * sqlite:///CourseData.db\n",
      "Done.\n"
     ]
    },
    {
     "data": {
      "text/html": [
       "<table>\n",
       "    <tr>\n",
       "        <th>cid</th>\n",
       "        <th>name</th>\n",
       "        <th>type</th>\n",
       "        <th>notnull</th>\n",
       "        <th>dflt_value</th>\n",
       "        <th>pk</th>\n",
       "    </tr>\n",
       "    <tr>\n",
       "        <td>0</td>\n",
       "        <td>term</td>\n",
       "        <td>TEXT</td>\n",
       "        <td>0</td>\n",
       "        <td>None</td>\n",
       "        <td>0</td>\n",
       "    </tr>\n",
       "    <tr>\n",
       "        <td>1</td>\n",
       "        <td>crn</td>\n",
       "        <td>TEXT</td>\n",
       "        <td>0</td>\n",
       "        <td>None</td>\n",
       "        <td>0</td>\n",
       "    </tr>\n",
       "    <tr>\n",
       "        <td>2</td>\n",
       "        <td>catalog_id</td>\n",
       "        <td>TEXT</td>\n",
       "        <td>0</td>\n",
       "        <td>None</td>\n",
       "        <td>0</td>\n",
       "    </tr>\n",
       "    <tr>\n",
       "        <td>3</td>\n",
       "        <td>section</td>\n",
       "        <td>TEXT</td>\n",
       "        <td>0</td>\n",
       "        <td>None</td>\n",
       "        <td>0</td>\n",
       "    </tr>\n",
       "    <tr>\n",
       "        <td>4</td>\n",
       "        <td>credits</td>\n",
       "        <td>TEXT</td>\n",
       "        <td>0</td>\n",
       "        <td>None</td>\n",
       "        <td>0</td>\n",
       "    </tr>\n",
       "    <tr>\n",
       "        <td>5</td>\n",
       "        <td>title</td>\n",
       "        <td>TEXT</td>\n",
       "        <td>0</td>\n",
       "        <td>None</td>\n",
       "        <td>0</td>\n",
       "    </tr>\n",
       "    <tr>\n",
       "        <td>6</td>\n",
       "        <td>meetings</td>\n",
       "        <td>TEXT</td>\n",
       "        <td>0</td>\n",
       "        <td>None</td>\n",
       "        <td>0</td>\n",
       "    </tr>\n",
       "    <tr>\n",
       "        <td>7</td>\n",
       "        <td>timecodes</td>\n",
       "        <td>TEXT</td>\n",
       "        <td>0</td>\n",
       "        <td>None</td>\n",
       "        <td>0</td>\n",
       "    </tr>\n",
       "    <tr>\n",
       "        <td>8</td>\n",
       "        <td>primary_instructor</td>\n",
       "        <td>TEXT</td>\n",
       "        <td>0</td>\n",
       "        <td>None</td>\n",
       "        <td>0</td>\n",
       "    </tr>\n",
       "    <tr>\n",
       "        <td>9</td>\n",
       "        <td>cap</td>\n",
       "        <td>TEXT</td>\n",
       "        <td>0</td>\n",
       "        <td>None</td>\n",
       "        <td>0</td>\n",
       "    </tr>\n",
       "    <tr>\n",
       "        <td>10</td>\n",
       "        <td>act</td>\n",
       "        <td>TEXT</td>\n",
       "        <td>0</td>\n",
       "        <td>None</td>\n",
       "        <td>0</td>\n",
       "    </tr>\n",
       "    <tr>\n",
       "        <td>11</td>\n",
       "        <td>rem</td>\n",
       "        <td>TEXT</td>\n",
       "        <td>0</td>\n",
       "        <td>None</td>\n",
       "        <td>0</td>\n",
       "    </tr>\n",
       "</table>"
      ],
      "text/plain": [
       "[(0, 'term', 'TEXT', 0, None, 0),\n",
       " (1, 'crn', 'TEXT', 0, None, 0),\n",
       " (2, 'catalog_id', 'TEXT', 0, None, 0),\n",
       " (3, 'section', 'TEXT', 0, None, 0),\n",
       " (4, 'credits', 'TEXT', 0, None, 0),\n",
       " (5, 'title', 'TEXT', 0, None, 0),\n",
       " (6, 'meetings', 'TEXT', 0, None, 0),\n",
       " (7, 'timecodes', 'TEXT', 0, None, 0),\n",
       " (8, 'primary_instructor', 'TEXT', 0, None, 0),\n",
       " (9, 'cap', 'TEXT', 0, None, 0),\n",
       " (10, 'act', 'TEXT', 0, None, 0),\n",
       " (11, 'rem', 'TEXT', 0, None, 0)]"
      ]
     },
     "execution_count": 3,
     "metadata": {},
     "output_type": "execute_result"
    }
   ],
   "source": [
    "%%sql\n",
    "\n",
    "PRAGMA table_info(DATASET3);"
   ]
  },
  {
   "cell_type": "markdown",
   "metadata": {},
   "source": [
    "<big><b>Step 4:</b></big>"
   ]
  },
  {
   "cell_type": "markdown",
   "metadata": {},
   "source": [
    "<big> A) Create INSTRUCTOR table </big>"
   ]
  },
  {
   "cell_type": "code",
   "execution_count": 4,
   "metadata": {},
   "outputs": [
    {
     "name": "stdout",
     "output_type": "stream",
     "text": [
      " * sqlite:///CourseData.db\n",
      "Done.\n",
      "Done.\n"
     ]
    },
    {
     "data": {
      "text/plain": [
       "[]"
      ]
     },
     "execution_count": 4,
     "metadata": {},
     "output_type": "execute_result"
    }
   ],
   "source": [
    "%%sql \n",
    "\n",
    "DROP TABLE IF EXISTS INSTRUCTOR;\n",
    "CREATE TABLE INSTRUCTOR(\n",
    "    IID INTEGER PRIMARY KEY,\n",
    "    Name TEXT NOT NULL\n",
    ");"
   ]
  },
  {
   "cell_type": "markdown",
   "metadata": {},
   "source": [
    "<big> B) Create LOCATION table </big>"
   ]
  },
  {
   "cell_type": "code",
   "execution_count": 5,
   "metadata": {},
   "outputs": [
    {
     "name": "stdout",
     "output_type": "stream",
     "text": [
      " * sqlite:///CourseData.db\n",
      "Done.\n",
      "Done.\n"
     ]
    },
    {
     "data": {
      "text/plain": [
       "[]"
      ]
     },
     "execution_count": 5,
     "metadata": {},
     "output_type": "execute_result"
    }
   ],
   "source": [
    "%%sql\n",
    "\n",
    "DROP TABLE IF EXISTS LOCATION;\n",
    "CREATE TABLE LOCATION(\n",
    "    LID INTEGER PRIMARY KEY,\n",
    "    Location TEXT NOT NULL\n",
    ");"
   ]
  },
  {
   "cell_type": "markdown",
   "metadata": {},
   "source": [
    "<big> C) Create PROGRAM table</big>"
   ]
  },
  {
   "cell_type": "code",
   "execution_count": 6,
   "metadata": {},
   "outputs": [
    {
     "name": "stdout",
     "output_type": "stream",
     "text": [
      " * sqlite:///CourseData.db\n",
      "Done.\n",
      "Done.\n"
     ]
    },
    {
     "data": {
      "text/plain": [
       "[]"
      ]
     },
     "execution_count": 6,
     "metadata": {},
     "output_type": "execute_result"
    }
   ],
   "source": [
    "%%sql\n",
    "\n",
    "DROP TABLE IF EXISTS PROGRAM;\n",
    "CREATE TABLE PROGRAM(\n",
    "    PID INTEGER PRIMARY KEY,\n",
    "    ProgramCode TEXT NOT NULL,\n",
    "    ProgramName TEXT NOT NULL\n",
    ");\n",
    "    "
   ]
  },
  {
   "cell_type": "markdown",
   "metadata": {},
   "source": [
    "<big> D) Create CATALOG_COURSE table </big>"
   ]
  },
  {
   "cell_type": "code",
   "execution_count": 7,
   "metadata": {},
   "outputs": [
    {
     "name": "stdout",
     "output_type": "stream",
     "text": [
      " * sqlite:///CourseData.db\n",
      "Done.\n",
      "Done.\n"
     ]
    },
    {
     "data": {
      "text/plain": [
       "[]"
      ]
     },
     "execution_count": 7,
     "metadata": {},
     "output_type": "execute_result"
    }
   ],
   "source": [
    "%%sql \n",
    "\n",
    "DROP TABLE IF EXISTS CATALOG_COURSE;\n",
    "CREATE TABLE CATALOG_COURSE(\n",
    "    CAID INTEGER NOT NULL PRIMARY KEY,\n",
    "    CatalogID TEXT NOT NULL, \n",
    "    ProgramName TEXT NOT NULL,\n",
    "    Credits VARCHAR NOT NULL,\n",
    "    Title TEXT NOT NULL,\n",
    "    PreReqs TEXT,\n",
    "    Attributes TEXT,\n",
    "    Description TEXT,\n",
    "    FOREIGN KEY (ProgramName) REFERENCES PROGRAM(ProgramName)\n",
    "); \n"
   ]
  },
  {
   "cell_type": "markdown",
   "metadata": {},
   "source": [
    "<big> E) Create OFFERINGS_COURSE table </big>"
   ]
  },
  {
   "cell_type": "code",
   "execution_count": 8,
   "metadata": {},
   "outputs": [
    {
     "name": "stdout",
     "output_type": "stream",
     "text": [
      " * sqlite:///CourseData.db\n",
      "Done.\n",
      "Done.\n"
     ]
    },
    {
     "data": {
      "text/plain": [
       "[]"
      ]
     },
     "execution_count": 8,
     "metadata": {},
     "output_type": "execute_result"
    }
   ],
   "source": [
    "%%sql \n",
    "\n",
    "DROP TABLE IF EXISTS OFFERINGS_COURSE;\n",
    "CREATE TABLE OFFERINGS_COURSE(\n",
    "    COID INTEGER PRIMARY KEY,\n",
    "    Name TEXT NOT NULL,\n",
    "    Meetings TEXT NOT NULL,\n",
    "    CatalogID TEXT NOT NULL,\n",
    "    CRN TEXT NOT NULL,\n",
    "    Term TEXT NOT NULL,\n",
    "    Section TEXT NOT NULL,\n",
    "    Cap INTEGER NOT NULL,\n",
    "    Act INTEGER NOT NULL,\n",
    "    Rem INTEGER NOT NULL,\n",
    "    FOREIGN KEY (Name) REFERENCES INSTRUCTOR (Name),\n",
    "    FOREIGN KEY (CatalogID) REFERENCES CATALOG_COURSE (CatalogID)\n",
    ");\n",
    "    "
   ]
  },
  {
   "cell_type": "markdown",
   "metadata": {},
   "source": [
    "<big> F) Create MEETINGS_COURSE table </big>"
   ]
  },
  {
   "cell_type": "code",
   "execution_count": 9,
   "metadata": {},
   "outputs": [
    {
     "name": "stdout",
     "output_type": "stream",
     "text": [
      " * sqlite:///CourseData.db\n",
      "Done.\n",
      "Done.\n"
     ]
    },
    {
     "data": {
      "text/plain": [
       "[]"
      ]
     },
     "execution_count": 9,
     "metadata": {},
     "output_type": "execute_result"
    }
   ],
   "source": [
    "%%sql\n",
    "\n",
    "DROP TABLE IF EXISTS MEETINGS_COURSE;\n",
    "CREATE TABLE MEETINGS_COURSE(\n",
    "    CMID INTEGER PRIMARY KEY,\n",
    "    CRN TEXT NOT NULL,\n",
    "    Location TEXT NOT NULL,\n",
    "    Day TEXT NOT NULL,\n",
    "    Start TEXT NOT NULL,\n",
    "    End TEXT NOT NULL,\n",
    "    FOREIGN KEY (Location) REFERENCES LOCATION(Location),\n",
    "    FOREIGN KEY (CRN) REFERENCES OFFERINGS_COURSE(CRN)\n",
    ");"
   ]
  },
  {
   "cell_type": "markdown",
   "metadata": {},
   "source": [
    "<big> <b> Step 5: </b> Populating the database with data\n",
    "\n",
    "Here we populated the data with that we have imported into the 3 dataset tables\n",
    "\n",
    "-Dataset 1 <br>\n",
    "-Dataset 2 <br>\n",
    "-Dataset 3 <br>\n",
    "   </big>"
   ]
  },
  {
   "cell_type": "markdown",
   "metadata": {},
   "source": [
    "<big> A) Populate PROGRAM table </big>"
   ]
  },
  {
   "cell_type": "code",
   "execution_count": 10,
   "metadata": {},
   "outputs": [
    {
     "name": "stdout",
     "output_type": "stream",
     "text": [
      " * sqlite:///CourseData.db\n",
      "0 rows affected.\n",
      "84 rows affected.\n",
      "1 rows affected.\n"
     ]
    },
    {
     "data": {
      "text/plain": [
       "[]"
      ]
     },
     "execution_count": 10,
     "metadata": {},
     "output_type": "execute_result"
    }
   ],
   "source": [
    "%%sql\n",
    "\n",
    "DELETE FROM PROGRAM;\n",
    "INSERT INTO PROGRAM (ProgramCode, ProgramName)\n",
    "    SELECT DISTINCT program_code, program_name\n",
    "    FROM DATASET1;\n",
    "\n",
    "DELETE FROM PROGRAM\n",
    "WHERE ProgramName = 'program_name';\n"
   ]
  },
  {
   "cell_type": "markdown",
   "metadata": {},
   "source": [
    "<big> B) Populate INSTRUCTOR table </big>"
   ]
  },
  {
   "cell_type": "code",
   "execution_count": 19,
   "metadata": {},
   "outputs": [
    {
     "name": "stdout",
     "output_type": "stream",
     "text": [
      " * sqlite:///CourseData.db\n",
      "(sqlite3.OperationalError) no such table: DATASET3\n",
      "[SQL: INSERT INTO INSTRUCTOR (Name)\n",
      "    SELECT DISTINCT primary_instructor\n",
      "    FROM DATASET3;]\n",
      "(Background on this error at: http://sqlalche.me/e/e3q8)\n"
     ]
    }
   ],
   "source": [
    "%%sql\n",
    "\n",
    "DELETE FROM INSTRUCTOR;\n",
    "INSERT INTO INSTRUCTOR (Name)\n",
    "    SELECT DISTINCT primary_instructor\n",
    "    FROM DATASET3;\n",
    "    \n",
    "DELETE FROM INSTRUCTOR\n",
    "WHERE Name = 'primary_instructor';"
   ]
  },
  {
   "cell_type": "markdown",
   "metadata": {},
   "source": [
    "<big> C) Populate LOCATION table </big>"
   ]
  },
  {
   "cell_type": "code",
   "execution_count": 12,
   "metadata": {},
   "outputs": [
    {
     "name": "stdout",
     "output_type": "stream",
     "text": [
      " * sqlite:///CourseData.db\n",
      "0 rows affected.\n",
      "208 rows affected.\n",
      "1 rows affected.\n"
     ]
    },
    {
     "data": {
      "text/plain": [
       "[]"
      ]
     },
     "execution_count": 12,
     "metadata": {},
     "output_type": "execute_result"
    }
   ],
   "source": [
    "%%sql\n",
    "\n",
    "DELETE FROM LOCATION;\n",
    "INSERT INTO LOCATION (Location)\n",
    "    SELECT DISTINCT location\n",
    "    FROM DATASET2;\n",
    "    \n",
    "DELETE FROM LOCATION\n",
    "WHERE Location = 'location';"
   ]
  },
  {
   "cell_type": "markdown",
   "metadata": {},
   "source": [
    "<big> D) Populate CATALOG_COURSE table, link program name to PROGRAM table to ensure FK integrity </big>"
   ]
  },
  {
   "cell_type": "code",
   "execution_count": 13,
   "metadata": {},
   "outputs": [
    {
     "name": "stdout",
     "output_type": "stream",
     "text": [
      " * sqlite:///CourseData.db\n",
      "0 rows affected.\n",
      "2221 rows affected.\n",
      "1 rows affected.\n"
     ]
    },
    {
     "data": {
      "text/plain": [
       "[]"
      ]
     },
     "execution_count": 13,
     "metadata": {},
     "output_type": "execute_result"
    }
   ],
   "source": [
    "%%sql\n",
    "\n",
    "DELETE FROM CATALOG_COURSE;\n",
    "INSERT INTO CATALOG_COURSE (CatalogID, ProgramName, Credits, Title, PreReqs, Attributes, Description)\n",
    "    SELECT DISTINCT catalog_id, c.program_name, credits, course_title, prereqs, attributes, description\n",
    "    FROM DATASET1 c\n",
    "    LEFT JOIN PROGRAM d ON c.program_name = d.ProgramName;\n",
    "    \n",
    "DELETE FROM CATALOG_COURSE\n",
    "WHERE CatalogID = 'catalog_id';"
   ]
  },
  {
   "cell_type": "markdown",
   "metadata": {},
   "source": [
    "<big> D) Populate OFFERINGS_COURSE table, link instructor name to INSTRUCTOR and catalog_id to CATALOG_COURSE table to ensure FK integrity </big>"
   ]
  },
  {
   "cell_type": "code",
   "execution_count": 14,
   "metadata": {},
   "outputs": [
    {
     "name": "stdout",
     "output_type": "stream",
     "text": [
      " * sqlite:///CourseData.db\n",
      "0 rows affected.\n",
      "15243 rows affected.\n",
      "0 rows affected.\n"
     ]
    },
    {
     "data": {
      "text/plain": [
       "[]"
      ]
     },
     "execution_count": 14,
     "metadata": {},
     "output_type": "execute_result"
    }
   ],
   "source": [
    "%%sql\n",
    "\n",
    "DELETE FROM OFFERINGS_COURSE;\n",
    "INSERT INTO OFFERINGS_COURSE(Meetings, CRN, Term, CatalogID, Name, Section, Cap, Act, Rem)\n",
    "    SELECT DISTINCT c.meetings, crn, term, c.catalog_id, primary_instructor, section, cap, act, rem\n",
    "    FROM DATASET3 c\n",
    "        INNER JOIN INSTRUCTOR i ON c.primary_instructor=i.Name\n",
    "        INNER JOIN CATALOG_COURSE cc ON c.catalog_id = cc.CatalogID\n",
    " ;\n",
    "DELETE FROM OFFERINGS_COURSE\n",
    "WHERE CatalogID = 'catalog_id';\n"
   ]
  },
  {
   "cell_type": "markdown",
   "metadata": {},
   "source": [
    "<big> E) Populate MEETINGS_COURSE table, link location to LOCATION and CRN to OFFERINGS_COURSE table to ensure FK integrity </big>"
   ]
  },
  {
   "cell_type": "code",
   "execution_count": 15,
   "metadata": {},
   "outputs": [
    {
     "name": "stdout",
     "output_type": "stream",
     "text": [
      " * sqlite:///CourseData.db\n",
      "0 rows affected.\n",
      "284848 rows affected.\n",
      "1 rows affected.\n"
     ]
    },
    {
     "data": {
      "text/plain": [
       "[]"
      ]
     },
     "execution_count": 15,
     "metadata": {},
     "output_type": "execute_result"
    }
   ],
   "source": [
    "%%sql\n",
    "\n",
    "DELETE FROM MEETINGS_COURSE;\n",
    "INSERT INTO MEETINGS_COURSE (CRN, Location, Day, Start, End)\n",
    "    SELECT DISTINCT c.crn, c.location, day, start, end\n",
    "    FROM DATASET2 c\n",
    "    LEFT JOIN LOCATION l ON c.location=l.Location\n",
    "    LEFT JOIN OFFERINGS_COURSE oc ON c.crn = oc.CRN;\n",
    "    \n",
    "DELETE FROM MEETINGS_COURSE\n",
    "WHERE CRN = 'crn';\n"
   ]
  },
  {
   "cell_type": "code",
   "execution_count": 18,
   "metadata": {},
   "outputs": [
    {
     "name": "stdout",
     "output_type": "stream",
     "text": [
      " * sqlite:///CourseData.db\n",
      "Done.\n",
      "Done.\n",
      "Done.\n",
      "Done.\n"
     ]
    },
    {
     "data": {
      "text/plain": [
       "[]"
      ]
     },
     "execution_count": 18,
     "metadata": {},
     "output_type": "execute_result"
    }
   ],
   "source": [
    "%%sql\n",
    "\n",
    "DROP TABLE IF EXISTS DATASET1;\n",
    "DROP TABLE IF EXISTS DATASET2;\n",
    "DROP TABLE IF EXISTS DATASET3;\n",
    "\n",
    "vacuum;"
   ]
  },
  {
   "cell_type": "code",
   "execution_count": 6,
   "metadata": {},
   "outputs": [
    {
     "name": "stdout",
     "output_type": "stream",
     "text": [
      " * sqlite:///CourseData.db\n",
      "15243 rows affected.\n"
     ]
    },
    {
     "data": {
      "text/plain": [
       "[]"
      ]
     },
     "execution_count": 6,
     "metadata": {},
     "output_type": "execute_result"
    }
   ],
   "source": [
    "%%sql\n",
    "\n",
    "\n",
    "UPDATE OFFERINGS_COURSE\n",
    "SET Name = (\n",
    "    SELECT DISTINCT Name\n",
    "    FROM INSTRUCTOR);\n"
   ]
  },
  {
   "cell_type": "code",
   "execution_count": 7,
   "metadata": {},
   "outputs": [
    {
     "name": "stdout",
     "output_type": "stream",
     "text": [
      " * sqlite:///CourseData.db\n",
      "Done.\n"
     ]
    },
    {
     "data": {
      "text/html": [
       "<table>\n",
       "    <tr>\n",
       "        <th>Name</th>\n",
       "    </tr>\n",
       "    <tr>\n",
       "        <td>Michael P.  Coyne</td>\n",
       "    </tr>\n",
       "    <tr>\n",
       "        <td>Michael P.  Coyne</td>\n",
       "    </tr>\n",
       "    <tr>\n",
       "        <td>Michael P.  Coyne</td>\n",
       "    </tr>\n",
       "    <tr>\n",
       "        <td>Michael P.  Coyne</td>\n",
       "    </tr>\n",
       "    <tr>\n",
       "        <td>Michael P.  Coyne</td>\n",
       "    </tr>\n",
       "    <tr>\n",
       "        <td>Michael P.  Coyne</td>\n",
       "    </tr>\n",
       "    <tr>\n",
       "        <td>Michael P.  Coyne</td>\n",
       "    </tr>\n",
       "    <tr>\n",
       "        <td>Michael P.  Coyne</td>\n",
       "    </tr>\n",
       "    <tr>\n",
       "        <td>Michael P.  Coyne</td>\n",
       "    </tr>\n",
       "    <tr>\n",
       "        <td>Michael P.  Coyne</td>\n",
       "    </tr>\n",
       "</table>"
      ],
      "text/plain": [
       "[('Michael P.  Coyne',),\n",
       " ('Michael P.  Coyne',),\n",
       " ('Michael P.  Coyne',),\n",
       " ('Michael P.  Coyne',),\n",
       " ('Michael P.  Coyne',),\n",
       " ('Michael P.  Coyne',),\n",
       " ('Michael P.  Coyne',),\n",
       " ('Michael P.  Coyne',),\n",
       " ('Michael P.  Coyne',),\n",
       " ('Michael P.  Coyne',)]"
      ]
     },
     "execution_count": 7,
     "metadata": {},
     "output_type": "execute_result"
    }
   ],
   "source": [
    "%%sql\n",
    "\n",
    "SELECT Name\n",
    "FROM OFFERINGS_COURSE\n",
    "LIMIT 10;"
   ]
  },
  {
   "cell_type": "code",
   "execution_count": null,
   "metadata": {},
   "outputs": [],
   "source": []
  }
 ],
 "metadata": {
  "kernelspec": {
   "display_name": "Python 3",
   "language": "python",
   "name": "python3"
  },
  "language_info": {
   "codemirror_mode": {
    "name": "ipython",
    "version": 3
   },
   "file_extension": ".py",
   "mimetype": "text/x-python",
   "name": "python",
   "nbconvert_exporter": "python",
   "pygments_lexer": "ipython3",
   "version": "3.6.7"
  }
 },
 "nbformat": 4,
 "nbformat_minor": 4
}
