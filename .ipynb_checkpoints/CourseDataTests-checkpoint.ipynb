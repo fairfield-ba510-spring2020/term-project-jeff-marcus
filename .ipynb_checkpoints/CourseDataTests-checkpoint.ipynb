{
 "cells": [
  {
   "cell_type": "markdown",
   "metadata": {},
   "source": [
    "<big><b>Step 1:</b> Load the SQL extension</big>"
   ]
  },
  {
   "cell_type": "code",
   "execution_count": null,
   "metadata": {},
   "outputs": [],
   "source": [
    "%load_ext sql"
   ]
  },
  {
   "cell_type": "markdown",
   "metadata": {},
   "source": [
    "<big><b>Step 2</b>: Connect sqlite to coursedata database</big>"
   ]
  },
  {
   "cell_type": "code",
   "execution_count": 4,
   "metadata": {},
   "outputs": [
    {
     "data": {
      "text/plain": [
       "'Connected: @CourseData.db'"
      ]
     },
     "execution_count": 4,
     "metadata": {},
     "output_type": "execute_result"
    }
   ],
   "source": [
    "%%sql\n",
    "\n",
    "sqlite:///CourseData.db"
   ]
  },
  {
   "cell_type": "markdown",
   "metadata": {},
   "source": [
    "<big><b>Step 3</b>: Use PRAGMA on the new tables to check that the structure of each table aligns with the ERD</big>"
   ]
  },
  {
   "cell_type": "code",
   "execution_count": 5,
   "metadata": {},
   "outputs": [
    {
     "name": "stdout",
     "output_type": "stream",
     "text": [
      " * sqlite:///CourseData.db\n",
      "Done.\n"
     ]
    },
    {
     "data": {
      "text/html": [
       "<table>\n",
       "    <tr>\n",
       "        <th>cid</th>\n",
       "        <th>name</th>\n",
       "        <th>type</th>\n",
       "        <th>notnull</th>\n",
       "        <th>dflt_value</th>\n",
       "        <th>pk</th>\n",
       "    </tr>\n",
       "    <tr>\n",
       "        <td>0</td>\n",
       "        <td>IID</td>\n",
       "        <td>INTEGER</td>\n",
       "        <td>0</td>\n",
       "        <td>None</td>\n",
       "        <td>1</td>\n",
       "    </tr>\n",
       "    <tr>\n",
       "        <td>1</td>\n",
       "        <td>Name</td>\n",
       "        <td>TEXT</td>\n",
       "        <td>1</td>\n",
       "        <td>None</td>\n",
       "        <td>0</td>\n",
       "    </tr>\n",
       "</table>"
      ],
      "text/plain": [
       "[(0, 'IID', 'INTEGER', 0, None, 1), (1, 'Name', 'TEXT', 1, None, 0)]"
      ]
     },
     "execution_count": 5,
     "metadata": {},
     "output_type": "execute_result"
    }
   ],
   "source": [
    "%%sql\n",
    "\n",
    "PRAGMA table_info(INSTRUCTOR);"
   ]
  },
  {
   "cell_type": "code",
   "execution_count": 6,
   "metadata": {},
   "outputs": [
    {
     "name": "stdout",
     "output_type": "stream",
     "text": [
      " * sqlite:///CourseData.db\n",
      "Done.\n"
     ]
    },
    {
     "data": {
      "text/html": [
       "<table>\n",
       "    <tr>\n",
       "        <th>cid</th>\n",
       "        <th>name</th>\n",
       "        <th>type</th>\n",
       "        <th>notnull</th>\n",
       "        <th>dflt_value</th>\n",
       "        <th>pk</th>\n",
       "    </tr>\n",
       "    <tr>\n",
       "        <td>0</td>\n",
       "        <td>LID</td>\n",
       "        <td>INTEGER</td>\n",
       "        <td>0</td>\n",
       "        <td>None</td>\n",
       "        <td>1</td>\n",
       "    </tr>\n",
       "    <tr>\n",
       "        <td>1</td>\n",
       "        <td>Location</td>\n",
       "        <td>TEXT</td>\n",
       "        <td>1</td>\n",
       "        <td>None</td>\n",
       "        <td>0</td>\n",
       "    </tr>\n",
       "</table>"
      ],
      "text/plain": [
       "[(0, 'LID', 'INTEGER', 0, None, 1), (1, 'Location', 'TEXT', 1, None, 0)]"
      ]
     },
     "execution_count": 6,
     "metadata": {},
     "output_type": "execute_result"
    }
   ],
   "source": [
    "%%sql\n",
    "\n",
    "PRAGMA table_info(LOCATION);"
   ]
  },
  {
   "cell_type": "code",
   "execution_count": 7,
   "metadata": {},
   "outputs": [
    {
     "name": "stdout",
     "output_type": "stream",
     "text": [
      " * sqlite:///CourseData.db\n",
      "Done.\n"
     ]
    },
    {
     "data": {
      "text/html": [
       "<table>\n",
       "    <tr>\n",
       "        <th>cid</th>\n",
       "        <th>name</th>\n",
       "        <th>type</th>\n",
       "        <th>notnull</th>\n",
       "        <th>dflt_value</th>\n",
       "        <th>pk</th>\n",
       "    </tr>\n",
       "    <tr>\n",
       "        <td>0</td>\n",
       "        <td>PID</td>\n",
       "        <td>INTEGER</td>\n",
       "        <td>0</td>\n",
       "        <td>None</td>\n",
       "        <td>1</td>\n",
       "    </tr>\n",
       "    <tr>\n",
       "        <td>1</td>\n",
       "        <td>ProgramCode</td>\n",
       "        <td>TEXT</td>\n",
       "        <td>1</td>\n",
       "        <td>None</td>\n",
       "        <td>0</td>\n",
       "    </tr>\n",
       "    <tr>\n",
       "        <td>2</td>\n",
       "        <td>ProgramName</td>\n",
       "        <td>TEXT</td>\n",
       "        <td>1</td>\n",
       "        <td>None</td>\n",
       "        <td>0</td>\n",
       "    </tr>\n",
       "</table>"
      ],
      "text/plain": [
       "[(0, 'PID', 'INTEGER', 0, None, 1),\n",
       " (1, 'ProgramCode', 'TEXT', 1, None, 0),\n",
       " (2, 'ProgramName', 'TEXT', 1, None, 0)]"
      ]
     },
     "execution_count": 7,
     "metadata": {},
     "output_type": "execute_result"
    }
   ],
   "source": [
    "%%sql\n",
    "\n",
    "PRAGMA table_info(PROGRAM);"
   ]
  },
  {
   "cell_type": "code",
   "execution_count": 8,
   "metadata": {},
   "outputs": [
    {
     "name": "stdout",
     "output_type": "stream",
     "text": [
      " * sqlite:///CourseData.db\n",
      "Done.\n"
     ]
    },
    {
     "data": {
      "text/html": [
       "<table>\n",
       "    <tr>\n",
       "        <th>cid</th>\n",
       "        <th>name</th>\n",
       "        <th>type</th>\n",
       "        <th>notnull</th>\n",
       "        <th>dflt_value</th>\n",
       "        <th>pk</th>\n",
       "    </tr>\n",
       "    <tr>\n",
       "        <td>0</td>\n",
       "        <td>CAID</td>\n",
       "        <td>INTEGER</td>\n",
       "        <td>1</td>\n",
       "        <td>None</td>\n",
       "        <td>1</td>\n",
       "    </tr>\n",
       "    <tr>\n",
       "        <td>1</td>\n",
       "        <td>CatalogID</td>\n",
       "        <td>TEXT</td>\n",
       "        <td>1</td>\n",
       "        <td>None</td>\n",
       "        <td>0</td>\n",
       "    </tr>\n",
       "    <tr>\n",
       "        <td>2</td>\n",
       "        <td>ProgramName</td>\n",
       "        <td>TEXT</td>\n",
       "        <td>1</td>\n",
       "        <td>None</td>\n",
       "        <td>0</td>\n",
       "    </tr>\n",
       "    <tr>\n",
       "        <td>3</td>\n",
       "        <td>Credits</td>\n",
       "        <td>VARCHAR</td>\n",
       "        <td>1</td>\n",
       "        <td>None</td>\n",
       "        <td>0</td>\n",
       "    </tr>\n",
       "    <tr>\n",
       "        <td>4</td>\n",
       "        <td>Title</td>\n",
       "        <td>TEXT</td>\n",
       "        <td>1</td>\n",
       "        <td>None</td>\n",
       "        <td>0</td>\n",
       "    </tr>\n",
       "    <tr>\n",
       "        <td>5</td>\n",
       "        <td>PreReqs</td>\n",
       "        <td>TEXT</td>\n",
       "        <td>0</td>\n",
       "        <td>None</td>\n",
       "        <td>0</td>\n",
       "    </tr>\n",
       "    <tr>\n",
       "        <td>6</td>\n",
       "        <td>Attributes</td>\n",
       "        <td>TEXT</td>\n",
       "        <td>0</td>\n",
       "        <td>None</td>\n",
       "        <td>0</td>\n",
       "    </tr>\n",
       "    <tr>\n",
       "        <td>7</td>\n",
       "        <td>Description</td>\n",
       "        <td>TEXT</td>\n",
       "        <td>0</td>\n",
       "        <td>None</td>\n",
       "        <td>0</td>\n",
       "    </tr>\n",
       "</table>"
      ],
      "text/plain": [
       "[(0, 'CAID', 'INTEGER', 1, None, 1),\n",
       " (1, 'CatalogID', 'TEXT', 1, None, 0),\n",
       " (2, 'ProgramName', 'TEXT', 1, None, 0),\n",
       " (3, 'Credits', 'VARCHAR', 1, None, 0),\n",
       " (4, 'Title', 'TEXT', 1, None, 0),\n",
       " (5, 'PreReqs', 'TEXT', 0, None, 0),\n",
       " (6, 'Attributes', 'TEXT', 0, None, 0),\n",
       " (7, 'Description', 'TEXT', 0, None, 0)]"
      ]
     },
     "execution_count": 8,
     "metadata": {},
     "output_type": "execute_result"
    }
   ],
   "source": [
    "%%sql\n",
    "\n",
    "PRAGMA table_info(CATALOG_COURSE);"
   ]
  },
  {
   "cell_type": "code",
   "execution_count": 9,
   "metadata": {},
   "outputs": [
    {
     "name": "stdout",
     "output_type": "stream",
     "text": [
      " * sqlite:///CourseData.db\n",
      "Done.\n"
     ]
    },
    {
     "data": {
      "text/html": [
       "<table>\n",
       "    <tr>\n",
       "        <th>cid</th>\n",
       "        <th>name</th>\n",
       "        <th>type</th>\n",
       "        <th>notnull</th>\n",
       "        <th>dflt_value</th>\n",
       "        <th>pk</th>\n",
       "    </tr>\n",
       "    <tr>\n",
       "        <td>0</td>\n",
       "        <td>COID</td>\n",
       "        <td>INTEGER</td>\n",
       "        <td>0</td>\n",
       "        <td>None</td>\n",
       "        <td>1</td>\n",
       "    </tr>\n",
       "    <tr>\n",
       "        <td>1</td>\n",
       "        <td>Name</td>\n",
       "        <td>TEXT</td>\n",
       "        <td>1</td>\n",
       "        <td>None</td>\n",
       "        <td>0</td>\n",
       "    </tr>\n",
       "    <tr>\n",
       "        <td>2</td>\n",
       "        <td>Meetings</td>\n",
       "        <td>TEXT</td>\n",
       "        <td>1</td>\n",
       "        <td>None</td>\n",
       "        <td>0</td>\n",
       "    </tr>\n",
       "    <tr>\n",
       "        <td>3</td>\n",
       "        <td>CatalogID</td>\n",
       "        <td>TEXT</td>\n",
       "        <td>1</td>\n",
       "        <td>None</td>\n",
       "        <td>0</td>\n",
       "    </tr>\n",
       "    <tr>\n",
       "        <td>4</td>\n",
       "        <td>CRN</td>\n",
       "        <td>TEXT</td>\n",
       "        <td>1</td>\n",
       "        <td>None</td>\n",
       "        <td>0</td>\n",
       "    </tr>\n",
       "    <tr>\n",
       "        <td>5</td>\n",
       "        <td>Term</td>\n",
       "        <td>TEXT</td>\n",
       "        <td>1</td>\n",
       "        <td>None</td>\n",
       "        <td>0</td>\n",
       "    </tr>\n",
       "    <tr>\n",
       "        <td>6</td>\n",
       "        <td>Section</td>\n",
       "        <td>TEXT</td>\n",
       "        <td>1</td>\n",
       "        <td>None</td>\n",
       "        <td>0</td>\n",
       "    </tr>\n",
       "    <tr>\n",
       "        <td>7</td>\n",
       "        <td>Cap</td>\n",
       "        <td>INTEGER</td>\n",
       "        <td>1</td>\n",
       "        <td>None</td>\n",
       "        <td>0</td>\n",
       "    </tr>\n",
       "    <tr>\n",
       "        <td>8</td>\n",
       "        <td>Act</td>\n",
       "        <td>INTEGER</td>\n",
       "        <td>1</td>\n",
       "        <td>None</td>\n",
       "        <td>0</td>\n",
       "    </tr>\n",
       "    <tr>\n",
       "        <td>9</td>\n",
       "        <td>Rem</td>\n",
       "        <td>INTEGER</td>\n",
       "        <td>1</td>\n",
       "        <td>None</td>\n",
       "        <td>0</td>\n",
       "    </tr>\n",
       "</table>"
      ],
      "text/plain": [
       "[(0, 'COID', 'INTEGER', 0, None, 1),\n",
       " (1, 'Name', 'TEXT', 1, None, 0),\n",
       " (2, 'Meetings', 'TEXT', 1, None, 0),\n",
       " (3, 'CatalogID', 'TEXT', 1, None, 0),\n",
       " (4, 'CRN', 'TEXT', 1, None, 0),\n",
       " (5, 'Term', 'TEXT', 1, None, 0),\n",
       " (6, 'Section', 'TEXT', 1, None, 0),\n",
       " (7, 'Cap', 'INTEGER', 1, None, 0),\n",
       " (8, 'Act', 'INTEGER', 1, None, 0),\n",
       " (9, 'Rem', 'INTEGER', 1, None, 0)]"
      ]
     },
     "execution_count": 9,
     "metadata": {},
     "output_type": "execute_result"
    }
   ],
   "source": [
    "%%sql\n",
    "\n",
    "PRAGMA table_info(OFFERINGS_COURSE);"
   ]
  },
  {
   "cell_type": "code",
   "execution_count": 10,
   "metadata": {},
   "outputs": [
    {
     "name": "stdout",
     "output_type": "stream",
     "text": [
      " * sqlite:///CourseData.db\n",
      "Done.\n"
     ]
    },
    {
     "data": {
      "text/html": [
       "<table>\n",
       "    <tr>\n",
       "        <th>cid</th>\n",
       "        <th>name</th>\n",
       "        <th>type</th>\n",
       "        <th>notnull</th>\n",
       "        <th>dflt_value</th>\n",
       "        <th>pk</th>\n",
       "    </tr>\n",
       "    <tr>\n",
       "        <td>0</td>\n",
       "        <td>CMID</td>\n",
       "        <td>INTEGER</td>\n",
       "        <td>0</td>\n",
       "        <td>None</td>\n",
       "        <td>1</td>\n",
       "    </tr>\n",
       "    <tr>\n",
       "        <td>1</td>\n",
       "        <td>CRN</td>\n",
       "        <td>TEXT</td>\n",
       "        <td>1</td>\n",
       "        <td>None</td>\n",
       "        <td>0</td>\n",
       "    </tr>\n",
       "    <tr>\n",
       "        <td>2</td>\n",
       "        <td>Location</td>\n",
       "        <td>TEXT</td>\n",
       "        <td>1</td>\n",
       "        <td>None</td>\n",
       "        <td>0</td>\n",
       "    </tr>\n",
       "    <tr>\n",
       "        <td>3</td>\n",
       "        <td>Day</td>\n",
       "        <td>TEXT</td>\n",
       "        <td>1</td>\n",
       "        <td>None</td>\n",
       "        <td>0</td>\n",
       "    </tr>\n",
       "    <tr>\n",
       "        <td>4</td>\n",
       "        <td>Start</td>\n",
       "        <td>TEXT</td>\n",
       "        <td>1</td>\n",
       "        <td>None</td>\n",
       "        <td>0</td>\n",
       "    </tr>\n",
       "    <tr>\n",
       "        <td>5</td>\n",
       "        <td>End</td>\n",
       "        <td>TEXT</td>\n",
       "        <td>1</td>\n",
       "        <td>None</td>\n",
       "        <td>0</td>\n",
       "    </tr>\n",
       "</table>"
      ],
      "text/plain": [
       "[(0, 'CMID', 'INTEGER', 0, None, 1),\n",
       " (1, 'CRN', 'TEXT', 1, None, 0),\n",
       " (2, 'Location', 'TEXT', 1, None, 0),\n",
       " (3, 'Day', 'TEXT', 1, None, 0),\n",
       " (4, 'Start', 'TEXT', 1, None, 0),\n",
       " (5, 'End', 'TEXT', 1, None, 0)]"
      ]
     },
     "execution_count": 10,
     "metadata": {},
     "output_type": "execute_result"
    }
   ],
   "source": [
    "%%sql\n",
    "\n",
    "PRAGMA table_info(MEETINGS_COURSE);"
   ]
  },
  {
   "cell_type": "code",
   "execution_count": 11,
   "metadata": {},
   "outputs": [
    {
     "name": "stdout",
     "output_type": "stream",
     "text": [
      " * sqlite:///CourseData.db\n",
      "Done.\n"
     ]
    },
    {
     "data": {
      "text/html": [
       "<table>\n",
       "    <tr>\n",
       "        <th>IID</th>\n",
       "        <th>Name</th>\n",
       "    </tr>\n",
       "    <tr>\n",
       "        <td>1</td>\n",
       "        <td>Michael P.  Coyne</td>\n",
       "    </tr>\n",
       "    <tr>\n",
       "        <td>2</td>\n",
       "        <td>Rebecca I.  Bloch</td>\n",
       "    </tr>\n",
       "    <tr>\n",
       "        <td>3</td>\n",
       "        <td>Paul   Caster</td>\n",
       "    </tr>\n",
       "    <tr>\n",
       "        <td>4</td>\n",
       "        <td>Jo Ann   Drusbosky</td>\n",
       "    </tr>\n",
       "    <tr>\n",
       "        <td>5</td>\n",
       "        <td>Arleen N.  Kardos</td>\n",
       "    </tr>\n",
       "    <tr>\n",
       "        <td>6</td>\n",
       "        <td>Scott M  Brenner</td>\n",
       "    </tr>\n",
       "    <tr>\n",
       "        <td>7</td>\n",
       "        <td>Kevin C.  Cassidy</td>\n",
       "    </tr>\n",
       "    <tr>\n",
       "        <td>8</td>\n",
       "        <td>Bruce   Bradford</td>\n",
       "    </tr>\n",
       "    <tr>\n",
       "        <td>9</td>\n",
       "        <td>Milo W.  Peck</td>\n",
       "    </tr>\n",
       "</table>"
      ],
      "text/plain": [
       "[(1, 'Michael P.  Coyne'),\n",
       " (2, 'Rebecca I.  Bloch'),\n",
       " (3, 'Paul   Caster'),\n",
       " (4, 'Jo Ann   Drusbosky'),\n",
       " (5, 'Arleen N.  Kardos'),\n",
       " (6, 'Scott M  Brenner'),\n",
       " (7, 'Kevin C.  Cassidy'),\n",
       " (8, 'Bruce   Bradford'),\n",
       " (9, 'Milo W.  Peck')]"
      ]
     },
     "execution_count": 11,
     "metadata": {},
     "output_type": "execute_result"
    }
   ],
   "source": [
    "%%sql\n",
    "\n",
    "SELECT * \n",
    "FROM INSTRUCTOR \n",
    "WHERE IID < 10;"
   ]
  },
  {
   "cell_type": "code",
   "execution_count": 29,
   "metadata": {},
   "outputs": [
    {
     "name": "stdout",
     "output_type": "stream",
     "text": [
      " * sqlite:///CourseData.db\n",
      "Done.\n"
     ]
    },
    {
     "data": {
      "text/html": [
       "<table>\n",
       "    <tr>\n",
       "        <th>Name</th>\n",
       "        <th>Cnt</th>\n",
       "    </tr>\n",
       "    <tr>\n",
       "        <td>01/20-04/30</td>\n",
       "        <td>1</td>\n",
       "    </tr>\n",
       "    <tr>\n",
       "        <td>01/20-05/08</td>\n",
       "        <td>4</td>\n",
       "    </tr>\n",
       "    <tr>\n",
       "        <td>05/21-08/17</td>\n",
       "        <td>1</td>\n",
       "    </tr>\n",
       "    <tr>\n",
       "        <td>08/15-01/15</td>\n",
       "        <td>1</td>\n",
       "    </tr>\n",
       "    <tr>\n",
       "        <td>09/01-12/07</td>\n",
       "        <td>1</td>\n",
       "    </tr>\n",
       "    <tr>\n",
       "        <td>09/02-12/19</td>\n",
       "        <td>1</td>\n",
       "    </tr>\n",
       "    <tr>\n",
       "        <td>09/02-12/30</td>\n",
       "        <td>5</td>\n",
       "    </tr>\n",
       "    <tr>\n",
       "        <td>Aaron K.  Perkus</td>\n",
       "        <td>2</td>\n",
       "    </tr>\n",
       "    <tr>\n",
       "        <td>Aaron R.  Van Dyke</td>\n",
       "        <td>42</td>\n",
       "    </tr>\n",
       "    <tr>\n",
       "        <td>Abdel Illah A.  Douda</td>\n",
       "        <td>17</td>\n",
       "    </tr>\n",
       "</table>"
      ],
      "text/plain": [
       "[('01/20-04/30', 1),\n",
       " ('01/20-05/08', 4),\n",
       " ('05/21-08/17', 1),\n",
       " ('08/15-01/15', 1),\n",
       " ('09/01-12/07', 1),\n",
       " ('09/02-12/19', 1),\n",
       " ('09/02-12/30', 5),\n",
       " ('Aaron K.  Perkus', 2),\n",
       " ('Aaron R.  Van Dyke', 42),\n",
       " ('Abdel Illah A.  Douda', 17)]"
      ]
     },
     "execution_count": 29,
     "metadata": {},
     "output_type": "execute_result"
    }
   ],
   "source": [
    "%%sql\n",
    "\n",
    "SELECT DISTINCT(Name), COUNT(*) AS Cnt\n",
    "FROM OFFERINGS_COURSE\n",
    "GROUP BY Name\n",
    "LIMIT 10;"
   ]
  },
  {
   "cell_type": "code",
   "execution_count": 32,
   "metadata": {},
   "outputs": [
    {
     "name": "stdout",
     "output_type": "stream",
     "text": [
      " * sqlite:///CourseData.db\n",
      "Done.\n"
     ]
    },
    {
     "data": {
      "text/html": [
       "<table>\n",
       "    <tr>\n",
       "        <th>COID</th>\n",
       "        <th>Name</th>\n",
       "        <th>Meetings</th>\n",
       "        <th>CatalogID</th>\n",
       "        <th>CRN</th>\n",
       "        <th>Term</th>\n",
       "        <th>Section</th>\n",
       "        <th>Cap</th>\n",
       "        <th>Act</th>\n",
       "        <th>Rem</th>\n",
       "    </tr>\n",
       "    <tr>\n",
       "        <td>305</td>\n",
       "        <td>09/02-12/30</td>\n",
       "        <td>[{&#x27;days&#x27;: &#x27;TBA&#x27;, &#x27;times&#x27;: &#x27;1&#x27;, &#x27;dates&#x27;: &#x27;TBA&#x27;, &#x27;location&#x27;: &#x27;IDEA Course Eval - YES&#x27;}]</td>\n",
       "        <td>CN 0465</td>\n",
       "        <td>73284</td>\n",
       "        <td>Fall2014</td>\n",
       "        <td>02</td>\n",
       "        <td>0</td>\n",
       "        <td>1</td>\n",
       "        <td>0</td>\n",
       "    </tr>\n",
       "    <tr>\n",
       "        <td>706</td>\n",
       "        <td>08/15-01/15</td>\n",
       "        <td>[{&#x27;days&#x27;: &#x27;TBA&#x27;, &#x27;times&#x27;: &#x27;10&#x27;, &#x27;dates&#x27;: &#x27;TBA&#x27;, &#x27;location&#x27;: &#x27;IDEA Course Eval - YES&#x27;}]</td>\n",
       "        <td>IN 0214</td>\n",
       "        <td>73278</td>\n",
       "        <td>Fall2014</td>\n",
       "        <td>01</td>\n",
       "        <td>0</td>\n",
       "        <td>10</td>\n",
       "        <td>0</td>\n",
       "    </tr>\n",
       "    <tr>\n",
       "        <td>911</td>\n",
       "        <td>09/02-12/30</td>\n",
       "        <td>[{&#x27;days&#x27;: &#x27;TBA&#x27;, &#x27;times&#x27;: &#x27;0&#x27;, &#x27;dates&#x27;: &#x27;TBA&#x27;, &#x27;location&#x27;: &#x27;IDEA Course Eval - NO and VPA Arts Core: Applied Course&#x27;}]</td>\n",
       "        <td>MU 0067</td>\n",
       "        <td>70848</td>\n",
       "        <td>Fall2014</td>\n",
       "        <td>A</td>\n",
       "        <td>1</td>\n",
       "        <td>-1</td>\n",
       "        <td>0</td>\n",
       "    </tr>\n",
       "    <tr>\n",
       "        <td>917</td>\n",
       "        <td>09/02-12/30</td>\n",
       "        <td>[{&#x27;days&#x27;: &#x27;TBA&#x27;, &#x27;times&#x27;: &#x27;0&#x27;, &#x27;dates&#x27;: &#x27;TBA&#x27;, &#x27;location&#x27;: &#x27;IDEA Course Eval - NO and VPA Arts Core: Applied Course&#x27;}]</td>\n",
       "        <td>MU 0088</td>\n",
       "        <td>70302</td>\n",
       "        <td>Fall2014</td>\n",
       "        <td>B</td>\n",
       "        <td>0</td>\n",
       "        <td>0</td>\n",
       "        <td>0</td>\n",
       "    </tr>\n",
       "    <tr>\n",
       "        <td>1167</td>\n",
       "        <td>09/02-12/30</td>\n",
       "        <td>[{&#x27;days&#x27;: &#x27;TBA&#x27;, &#x27;times&#x27;: &#x27;0&#x27;, &#x27;dates&#x27;: &#x27;TBA&#x27;, &#x27;location&#x27;: &#x27;IDEA Course Eval - NO&#x27;}]</td>\n",
       "        <td>PY 0099</td>\n",
       "        <td>70620</td>\n",
       "        <td>Fall2014</td>\n",
       "        <td>01</td>\n",
       "        <td>0</td>\n",
       "        <td>0</td>\n",
       "        <td>0</td>\n",
       "    </tr>\n",
       "    <tr>\n",
       "        <td>1168</td>\n",
       "        <td>09/02-12/30</td>\n",
       "        <td>[{&#x27;days&#x27;: &#x27;TBA&#x27;, &#x27;times&#x27;: &#x27;0&#x27;, &#x27;dates&#x27;: &#x27;TBA&#x27;, &#x27;location&#x27;: &#x27;IDEA Course Eval - NO&#x27;}]</td>\n",
       "        <td>PY 0099</td>\n",
       "        <td>70621</td>\n",
       "        <td>Fall2014</td>\n",
       "        <td>02</td>\n",
       "        <td>0</td>\n",
       "        <td>0</td>\n",
       "        <td>0</td>\n",
       "    </tr>\n",
       "    <tr>\n",
       "        <td>1228</td>\n",
       "        <td>09/02-12/19</td>\n",
       "        <td>[{&#x27;days&#x27;: &#x27;TBA&#x27;, &#x27;times&#x27;: &#x27;0&#x27;, &#x27;dates&#x27;: &#x27;TBA&#x27;, &#x27;location&#x27;: &#x27;IDEA Course Eval - YES&#x27;}]</td>\n",
       "        <td>QA 0400</td>\n",
       "        <td>73239</td>\n",
       "        <td>Fall2014</td>\n",
       "        <td>02</td>\n",
       "        <td>0</td>\n",
       "        <td>0</td>\n",
       "        <td>999</td>\n",
       "    </tr>\n",
       "    <tr>\n",
       "        <td>2313</td>\n",
       "        <td>09/01-12/07</td>\n",
       "        <td>[{&#x27;days&#x27;: &#x27;TBA&#x27;, &#x27;times&#x27;: &#x27;0&#x27;, &#x27;dates&#x27;: &#x27;TBA&#x27;, &#x27;location&#x27;: &#x27;IDEA Course Eval - NO&#x27;}]</td>\n",
       "        <td>MU 0088</td>\n",
       "        <td>75192</td>\n",
       "        <td>Fall2015</td>\n",
       "        <td>B</td>\n",
       "        <td>0</td>\n",
       "        <td>0</td>\n",
       "        <td>0</td>\n",
       "    </tr>\n",
       "    <tr>\n",
       "        <td>7334</td>\n",
       "        <td>01/20-05/08</td>\n",
       "        <td>[{&#x27;days&#x27;: &#x27;TBA&#x27;, &#x27;times&#x27;: &#x27;0&#x27;, &#x27;dates&#x27;: &#x27;TBA&#x27;, &#x27;location&#x27;: &#x27;IDEA Course Eval - NO and Professional Studies BA and Prof Studies: Humanities and Prof Studies: Social Sciences&#x27;}]</td>\n",
       "        <td>CO 0570</td>\n",
       "        <td>32930</td>\n",
       "        <td>Spring2015</td>\n",
       "        <td>01</td>\n",
       "        <td>0</td>\n",
       "        <td>0</td>\n",
       "        <td>0</td>\n",
       "    </tr>\n",
       "    <tr>\n",
       "        <td>7335</td>\n",
       "        <td>01/20-05/08</td>\n",
       "        <td>[{&#x27;days&#x27;: &#x27;TBA&#x27;, &#x27;times&#x27;: &#x27;0&#x27;, &#x27;dates&#x27;: &#x27;TBA&#x27;, &#x27;location&#x27;: &#x27;IDEA Course Eval - NO&#x27;}]</td>\n",
       "        <td>CO 0571</td>\n",
       "        <td>32527</td>\n",
       "        <td>Spring2015</td>\n",
       "        <td>01</td>\n",
       "        <td>0</td>\n",
       "        <td>0</td>\n",
       "        <td>0</td>\n",
       "    </tr>\n",
       "</table>"
      ],
      "text/plain": [
       "[(305, '09/02-12/30', \"[{'days': 'TBA', 'times': '1', 'dates': 'TBA', 'location': 'IDEA Course Eval - YES'}]\", 'CN 0465', '73284', 'Fall2014', '02', 0, 1, 0),\n",
       " (706, '08/15-01/15', \"[{'days': 'TBA', 'times': '10', 'dates': 'TBA', 'location': 'IDEA Course Eval - YES'}]\", 'IN 0214', '73278', 'Fall2014', '01', 0, 10, 0),\n",
       " (911, '09/02-12/30', \"[{'days': 'TBA', 'times': '0', 'dates': 'TBA', 'location': 'IDEA Course Eval - NO and VPA Arts Core: Applied Course'}]\", 'MU 0067', '70848', 'Fall2014', 'A', 1, -1, 0),\n",
       " (917, '09/02-12/30', \"[{'days': 'TBA', 'times': '0', 'dates': 'TBA', 'location': 'IDEA Course Eval - NO and VPA Arts Core: Applied Course'}]\", 'MU 0088', '70302', 'Fall2014', 'B', 0, 0, 0),\n",
       " (1167, '09/02-12/30', \"[{'days': 'TBA', 'times': '0', 'dates': 'TBA', 'location': 'IDEA Course Eval - NO'}]\", 'PY 0099', '70620', 'Fall2014', '01', 0, 0, 0),\n",
       " (1168, '09/02-12/30', \"[{'days': 'TBA', 'times': '0', 'dates': 'TBA', 'location': 'IDEA Course Eval - NO'}]\", 'PY 0099', '70621', 'Fall2014', '02', 0, 0, 0),\n",
       " (1228, '09/02-12/19', \"[{'days': 'TBA', 'times': '0', 'dates': 'TBA', 'location': 'IDEA Course Eval - YES'}]\", 'QA 0400', '73239', 'Fall2014', '02', 0, 0, 999),\n",
       " (2313, '09/01-12/07', \"[{'days': 'TBA', 'times': '0', 'dates': 'TBA', 'location': 'IDEA Course Eval - NO'}]\", 'MU 0088', '75192', 'Fall2015', 'B', 0, 0, 0),\n",
       " (7334, '01/20-05/08', \"[{'days': 'TBA', 'times': '0', 'dates': 'TBA', 'location': 'IDEA Course Eval - NO and Professional Studies BA and Prof Studies: Humanities and Prof Studies: Social Sciences'}]\", 'CO 0570', '32930', 'Spring2015', '01', 0, 0, 0),\n",
       " (7335, '01/20-05/08', \"[{'days': 'TBA', 'times': '0', 'dates': 'TBA', 'location': 'IDEA Course Eval - NO'}]\", 'CO 0571', '32527', 'Spring2015', '01', 0, 0, 0)]"
      ]
     },
     "execution_count": 32,
     "metadata": {},
     "output_type": "execute_result"
    }
   ],
   "source": [
    "%%sql\n",
    "\n",
    "SELECT *\n",
    "FROM OFFERINGS_COURSE\n",
    "WHERE Name LIKE '0%'\n",
    "LIMIT 10;"
   ]
  },
  {
   "cell_type": "code",
   "execution_count": null,
   "metadata": {},
   "outputs": [],
   "source": []
  }
 ],
 "metadata": {
  "kernelspec": {
   "display_name": "Python 3",
   "language": "python",
   "name": "python3"
  },
  "language_info": {
   "codemirror_mode": {
    "name": "ipython",
    "version": 3
   },
   "file_extension": ".py",
   "mimetype": "text/x-python",
   "name": "python",
   "nbconvert_exporter": "python",
   "pygments_lexer": "ipython3",
   "version": "3.6.7"
  }
 },
 "nbformat": 4,
 "nbformat_minor": 4
}
