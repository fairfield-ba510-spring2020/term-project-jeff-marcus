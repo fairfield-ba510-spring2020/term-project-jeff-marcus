{
 "cells": [
  {
   "cell_type": "code",
   "execution_count": 1,
   "metadata": {},
   "outputs": [],
   "source": [
    "%load_ext sql"
   ]
  },
  {
   "cell_type": "code",
   "execution_count": 2,
   "metadata": {},
   "outputs": [
    {
     "name": "stdout",
     "output_type": "stream",
     "text": [
      "Done.\n"
     ]
    },
    {
     "data": {
      "text/plain": [
       "[]"
      ]
     },
     "execution_count": 2,
     "metadata": {},
     "output_type": "execute_result"
    }
   ],
   "source": [
    "%%sql\n",
    "\n",
    "sqlite:///CourseDataWarehouseDemo.db\n",
    "    \n",
    "attach \"CourseData.db\" as db1"
   ]
  },
  {
   "cell_type": "code",
   "execution_count": 3,
   "metadata": {},
   "outputs": [
    {
     "name": "stdout",
     "output_type": "stream",
     "text": [
      " * sqlite:///CourseDataWarehouseDemo.db\n",
      "Done.\n"
     ]
    },
    {
     "data": {
      "text/html": [
       "<table>\n",
       "    <tr>\n",
       "        <th>cid</th>\n",
       "        <th>name</th>\n",
       "        <th>type</th>\n",
       "        <th>notnull</th>\n",
       "        <th>dflt_value</th>\n",
       "        <th>pk</th>\n",
       "    </tr>\n",
       "</table>"
      ],
      "text/plain": [
       "[]"
      ]
     },
     "execution_count": 3,
     "metadata": {},
     "output_type": "execute_result"
    }
   ],
   "source": [
    "%%sql\n",
    "\n",
    "PRAGMA table_info(COURSE_MEETINGS);"
   ]
  },
  {
   "cell_type": "code",
   "execution_count": 9,
   "metadata": {},
   "outputs": [
    {
     "name": "stdout",
     "output_type": "stream",
     "text": [
      " * sqlite:///CourseDataWarehouseDemo.db\n",
      "Done.\n",
      "Done.\n",
      "Done.\n",
      "Done.\n",
      "Done.\n"
     ]
    },
    {
     "data": {
      "text/plain": [
       "[]"
      ]
     },
     "execution_count": 9,
     "metadata": {},
     "output_type": "execute_result"
    }
   ],
   "source": [
    "%%sql\n",
    "\n",
    "\n",
    "\n",
    "DROP TABLE IF EXISTS COURSES_WH;\n",
    "\n"
   ]
  },
  {
   "cell_type": "markdown",
   "metadata": {},
   "source": [
    "Creating the tables for our Data Warehouse. There are only 5 tables, with one fact table."
   ]
  },
  {
   "cell_type": "code",
   "execution_count": 33,
   "metadata": {},
   "outputs": [
    {
     "name": "stdout",
     "output_type": "stream",
     "text": [
      " * sqlite:///CourseDataWarehouseDemo.db\n",
      "Done.\n",
      "Done.\n"
     ]
    },
    {
     "data": {
      "text/plain": [
       "[]"
      ]
     },
     "execution_count": 33,
     "metadata": {},
     "output_type": "execute_result"
    }
   ],
   "source": [
    "%%sql\n",
    "\n",
    "DROP TABLE IF EXISTS INSTRUCTOR_WH;\n",
    "CREATE TABLE INSTRUCTOR_WH (\n",
    "    IID INTEGER PRIMARY KEY,\n",
    "    Name TEXT NOT NULL\n",
    ");"
   ]
  },
  {
   "cell_type": "code",
   "execution_count": 34,
   "metadata": {},
   "outputs": [
    {
     "name": "stdout",
     "output_type": "stream",
     "text": [
      " * sqlite:///CourseDataWarehouseDemo.db\n",
      "Done.\n",
      "Done.\n"
     ]
    },
    {
     "data": {
      "text/plain": [
       "[]"
      ]
     },
     "execution_count": 34,
     "metadata": {},
     "output_type": "execute_result"
    }
   ],
   "source": [
    "%%sql\n",
    "\n",
    "DROP TABLE IF EXISTS LOCATION_WH;\n",
    "CREATE TABLE LOCATION_WH (\n",
    "    LID INTEGER PRIMARY KEY,\n",
    "    Location TEXT NOT NULL\n",
    ");"
   ]
  },
  {
   "cell_type": "code",
   "execution_count": 35,
   "metadata": {},
   "outputs": [
    {
     "name": "stdout",
     "output_type": "stream",
     "text": [
      " * sqlite:///CourseDataWarehouseDemo.db\n",
      "Done.\n",
      "Done.\n"
     ]
    },
    {
     "data": {
      "text/plain": [
       "[]"
      ]
     },
     "execution_count": 35,
     "metadata": {},
     "output_type": "execute_result"
    }
   ],
   "source": [
    "%%sql\n",
    "\n",
    "DROP TABLE IF EXISTS MEETINGS_WH;\n",
    "CREATE TABLE MEETINGS_WH (\n",
    "    MID INTEGER PRIMARY KEY,\n",
    "    Meetings TEXT NOT NULL\n",
    ");"
   ]
  },
  {
   "cell_type": "code",
   "execution_count": 36,
   "metadata": {},
   "outputs": [
    {
     "name": "stdout",
     "output_type": "stream",
     "text": [
      " * sqlite:///CourseDataWarehouseDemo.db\n",
      "Done.\n",
      "Done.\n"
     ]
    },
    {
     "data": {
      "text/plain": [
       "[]"
      ]
     },
     "execution_count": 36,
     "metadata": {},
     "output_type": "execute_result"
    }
   ],
   "source": [
    "%%sql\n",
    "\n",
    "DROP TABLE IF EXISTS TOTAL_COURSES_WH;\n",
    "CREATE TABLE TOTAL_COURSES_WH (\n",
    "    CRN INTEGER NOT NULL,\n",
    "    Tot_Courses INTEGER NOT NULL);"
   ]
  },
  {
   "cell_type": "code",
   "execution_count": 37,
   "metadata": {},
   "outputs": [
    {
     "name": "stdout",
     "output_type": "stream",
     "text": [
      " * sqlite:///CourseDataWarehouseDemo.db\n",
      "Done.\n",
      "Done.\n"
     ]
    },
    {
     "data": {
      "text/plain": [
       "[]"
      ]
     },
     "execution_count": 37,
     "metadata": {},
     "output_type": "execute_result"
    }
   ],
   "source": [
    "%%sql\n",
    "\n",
    "DROP TABLE IF EXISTS COURSES_WH;\n",
    "CREATE TABLE COURSES_WH (\n",
    "    COID INTEGER PRIMARY KEY,\n",
    "    CatalogID INTEGER NOT NULL,\n",
    "    CRN INTEGER,\n",
    "    Title TEXT NOT NULL,\n",
    "    LID INTEGER NOT NULL,\n",
    "    MID INTEGER NOT NULL,\n",
    "    Section TEXT,\n",
    "    IID INTEGER NOT NULL,\n",
    "    Cap TEXT,\n",
    "    Act TEXT,\n",
    "    Rem TEXT,\n",
    "    Tot_Courses INT,\n",
    "    Credits VARCHAR NOT NULL,\n",
    "    Prereqs TEXT,\n",
    "    FOREIGN KEY (LID) REFERENCES LOCATION(LID),\n",
    "    FOREIGN KEY (MID) REFERENCES MEETINGS(MID),\n",
    "    FOREIGN KEY (IID) REFERENCES INSTRUCTOR(IID)\n",
    "    )"
   ]
  },
  {
   "cell_type": "markdown",
   "metadata": {},
   "source": [
    "Inserting data into the tables for the data warehouse to do some queries on and for user use."
   ]
  },
  {
   "cell_type": "code",
   "execution_count": 38,
   "metadata": {},
   "outputs": [
    {
     "name": "stdout",
     "output_type": "stream",
     "text": [
      " * sqlite:///CourseDataWarehouseDemo.db\n",
      "1104 rows affected.\n"
     ]
    },
    {
     "data": {
      "text/plain": [
       "[]"
      ]
     },
     "execution_count": 38,
     "metadata": {},
     "output_type": "execute_result"
    }
   ],
   "source": [
    "%%sql\n",
    "\n",
    "INSERT INTO INSTRUCTOR_WH (Name)\n",
    "    SELECT DISTINCT Name\n",
    "    FROM db1.INSTRUCTOR;"
   ]
  },
  {
   "cell_type": "code",
   "execution_count": 39,
   "metadata": {},
   "outputs": [
    {
     "name": "stdout",
     "output_type": "stream",
     "text": [
      " * sqlite:///CourseDataWarehouseDemo.db\n",
      "207 rows affected.\n"
     ]
    },
    {
     "data": {
      "text/plain": [
       "[]"
      ]
     },
     "execution_count": 39,
     "metadata": {},
     "output_type": "execute_result"
    }
   ],
   "source": [
    "%%sql\n",
    "\n",
    "INSERT INTO LOCATION_WH (Location)\n",
    "    SELECT DISTINCT Location\n",
    "    FROM db1.LOCATION;"
   ]
  },
  {
   "cell_type": "code",
   "execution_count": 40,
   "metadata": {},
   "outputs": [
    {
     "name": "stdout",
     "output_type": "stream",
     "text": [
      " * sqlite:///CourseDataWarehouseDemo.db\n",
      "12039 rows affected.\n"
     ]
    },
    {
     "data": {
      "text/plain": [
       "[]"
      ]
     },
     "execution_count": 40,
     "metadata": {},
     "output_type": "execute_result"
    }
   ],
   "source": [
    "%%sql\n",
    "\n",
    "INSERT INTO MEETINGS_WH (Meetings)\n",
    "    SELECT DISTINCT meetings\n",
    "    FROM db1.OFFERINGS_COURSE;\n",
    "    "
   ]
  },
  {
   "cell_type": "code",
   "execution_count": 46,
   "metadata": {},
   "outputs": [
    {
     "name": "stdout",
     "output_type": "stream",
     "text": [
      " * sqlite:///CourseDataWarehouseDemo.db\n",
      "11291 rows affected.\n"
     ]
    },
    {
     "data": {
      "text/plain": [
       "[]"
      ]
     },
     "execution_count": 46,
     "metadata": {},
     "output_type": "execute_result"
    }
   ],
   "source": [
    "%%sql\n",
    "\n",
    "INSERT INTO TOTAL_COURSES_WH (CRN, Tot_Courses)\n",
    "    SELECT DISTINCT CRN, COUNT(CRN)\n",
    "    FROM db1.MEETINGS_COURSE\n",
    "    GROUP BY CRN;"
   ]
  },
  {
   "cell_type": "markdown",
   "metadata": {},
   "source": [
    "Vacuum"
   ]
  },
  {
   "cell_type": "code",
   "execution_count": 45,
   "metadata": {},
   "outputs": [
    {
     "name": "stdout",
     "output_type": "stream",
     "text": [
      " * sqlite:///CourseDataWarehouseDemo.db\n",
      "Done.\n"
     ]
    },
    {
     "data": {
      "text/plain": [
       "[]"
      ]
     },
     "execution_count": 45,
     "metadata": {},
     "output_type": "execute_result"
    }
   ],
   "source": [
    "%%sql\n",
    "\n",
    "vacuum;"
   ]
  },
  {
   "cell_type": "code",
   "execution_count": null,
   "metadata": {},
   "outputs": [],
   "source": []
  }
 ],
 "metadata": {
  "kernelspec": {
   "display_name": "Python 3",
   "language": "python",
   "name": "python3"
  },
  "language_info": {
   "codemirror_mode": {
    "name": "ipython",
    "version": 3
   },
   "file_extension": ".py",
   "mimetype": "text/x-python",
   "name": "python",
   "nbconvert_exporter": "python",
   "pygments_lexer": "ipython3",
   "version": "3.6.7"
  }
 },
 "nbformat": 4,
 "nbformat_minor": 4
}
