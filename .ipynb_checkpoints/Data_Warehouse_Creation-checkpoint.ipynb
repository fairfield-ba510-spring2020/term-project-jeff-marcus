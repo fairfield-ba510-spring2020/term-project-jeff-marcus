{
 "cells": [
  {
   "cell_type": "markdown",
   "metadata": {},
   "source": [
    "<big><b>Step 1:</b> Load the SQL extension</big>\n"
   ]
  },
  {
   "cell_type": "code",
   "execution_count": 1,
   "metadata": {},
   "outputs": [],
   "source": [
    "%load_ext sql"
   ]
  },
  {
   "cell_type": "markdown",
   "metadata": {},
   "source": [
    "<big><b>Step 2</b>: Connect sqlite to CourseDataWarehouse database</big>"
   ]
  },
  {
   "cell_type": "code",
   "execution_count": 2,
   "metadata": {},
   "outputs": [
    {
     "name": "stdout",
     "output_type": "stream",
     "text": [
      "Done.\n"
     ]
    },
    {
     "data": {
      "text/plain": [
       "[]"
      ]
     },
     "execution_count": 2,
     "metadata": {},
     "output_type": "execute_result"
    }
   ],
   "source": [
    "%%sql\n",
    "\n",
    "sqlite:///CourseDataWarehouseDemo.db\n",
    "    \n",
    "attach \"CourseData.db\" as db1"
   ]
  },
  {
   "cell_type": "markdown",
   "metadata": {},
   "source": [
    "<big><b>Step 3</b>: We begin by first creating the six dimension tables, as shown in our ERD. We intend to first create the dimension tables, then the fact table - as the fact table will have foreign key relationships to each dimension.</big>"
   ]
  },
  {
   "cell_type": "markdown",
   "metadata": {},
   "source": [
    "<b>3-1</b>: Per our Star schema ERD, we create the dimension tables as follows: INSTRUCTOR_WH, LOCATION_WH, PROGRAM_WH, CATALOG_COURSE_WH, TIME_CODE_WH, and TERM_WH."
   ]
  },
  {
   "cell_type": "code",
   "execution_count": 5,
   "metadata": {},
   "outputs": [
    {
     "name": "stdout",
     "output_type": "stream",
     "text": [
      " * sqlite:///CourseDataWarehouseDemo.db\n",
      "Done.\n",
      "Done.\n"
     ]
    },
    {
     "data": {
      "text/plain": [
       "[]"
      ]
     },
     "execution_count": 5,
     "metadata": {},
     "output_type": "execute_result"
    }
   ],
   "source": [
    "%%sql\n",
    "\n",
    "DROP TABLE IF EXISTS CATALOG_COURSE_WH;\n",
    "CREATE TABLE CATALOG_COURSE_WH (\n",
    "    CAID INTEGER PRIMARY KEY,\n",
    "    CatalogID TEXT NOT NULL,\n",
    "    Title TEXT NOT NULL,\n",
    "    Attributes TEXT,\n",
    "    Description TEXT,\n",
    "    Prereqs TEXT\n",
    ");"
   ]
  },
  {
   "cell_type": "code",
   "execution_count": 6,
   "metadata": {},
   "outputs": [
    {
     "name": "stdout",
     "output_type": "stream",
     "text": [
      " * sqlite:///CourseDataWarehouseDemo.db\n",
      "Done.\n",
      "Done.\n"
     ]
    },
    {
     "data": {
      "text/plain": [
       "[]"
      ]
     },
     "execution_count": 6,
     "metadata": {},
     "output_type": "execute_result"
    }
   ],
   "source": [
    "%%sql\n",
    "\n",
    "DROP TABLE IF EXISTS INSTRUCTOR_WH;\n",
    "CREATE TABLE INSTRUCTOR_WH (\n",
    "    IID INTEGER PRIMARY KEY,\n",
    "    Name TEXT NOT NULL\n",
    ");"
   ]
  },
  {
   "cell_type": "code",
   "execution_count": 7,
   "metadata": {},
   "outputs": [
    {
     "name": "stdout",
     "output_type": "stream",
     "text": [
      " * sqlite:///CourseDataWarehouseDemo.db\n",
      "Done.\n",
      "Done.\n"
     ]
    },
    {
     "data": {
      "text/plain": [
       "[]"
      ]
     },
     "execution_count": 7,
     "metadata": {},
     "output_type": "execute_result"
    }
   ],
   "source": [
    "%%sql\n",
    "\n",
    "DROP TABLE IF EXISTS LOCATION_WH;\n",
    "CREATE TABLE LOCATION_WH (\n",
    "    LID INTEGER PRIMARY KEY,\n",
    "    Location TEXT NOT NULL\n",
    ");"
   ]
  },
  {
   "cell_type": "code",
   "execution_count": 8,
   "metadata": {},
   "outputs": [
    {
     "name": "stdout",
     "output_type": "stream",
     "text": [
      " * sqlite:///CourseDataWarehouseDemo.db\n",
      "Done.\n",
      "Done.\n"
     ]
    },
    {
     "data": {
      "text/plain": [
       "[]"
      ]
     },
     "execution_count": 8,
     "metadata": {},
     "output_type": "execute_result"
    }
   ],
   "source": [
    "%%sql\n",
    "\n",
    "DROP TABLE IF EXISTS PROGRAM_WH;\n",
    "CREATE TABLE PROGRAM_WH (\n",
    "    PID INTEGER PRIMARY KEY,\n",
    "    ProgramCode TEXT NOT NULL,\n",
    "    ProgramName TEXT NOT NULL\n",
    ");"
   ]
  },
  {
   "cell_type": "code",
   "execution_count": 9,
   "metadata": {},
   "outputs": [
    {
     "name": "stdout",
     "output_type": "stream",
     "text": [
      " * sqlite:///CourseDataWarehouseDemo.db\n",
      "Done.\n",
      "Done.\n"
     ]
    },
    {
     "data": {
      "text/plain": [
       "[]"
      ]
     },
     "execution_count": 9,
     "metadata": {},
     "output_type": "execute_result"
    }
   ],
   "source": [
    "%%sql\n",
    "\n",
    "DROP TABLE IF EXISTS CATALOG_COURSE_WH;\n",
    "CREATE TABLE CATALOG_COURSE_WH (\n",
    "    CAID INTEGER PRIMARY KEY,\n",
    "    CatalogID TEXT NOT NULL,\n",
    "    Title TEXT NOT NULL,\n",
    "    Attributes TEXT,\n",
    "    Description TEXT,\n",
    "    Prereqs TEXT\n",
    ");"
   ]
  },
  {
   "cell_type": "code",
   "execution_count": 10,
   "metadata": {},
   "outputs": [
    {
     "name": "stdout",
     "output_type": "stream",
     "text": [
      " * sqlite:///CourseDataWarehouseDemo.db\n",
      "Done.\n",
      "Done.\n"
     ]
    },
    {
     "data": {
      "text/plain": [
       "[]"
      ]
     },
     "execution_count": 10,
     "metadata": {},
     "output_type": "execute_result"
    }
   ],
   "source": [
    "%%sql\n",
    "\n",
    "DROP TABLE IF EXISTS TIME_CODE_WH;\n",
    "CREATE TABLE TIME_CODE_WH (\n",
    "    TCID INT PRIMARY KEY,\n",
    "    Meetings TEXT NULL\n",
    ");"
   ]
  },
  {
   "cell_type": "code",
   "execution_count": 11,
   "metadata": {},
   "outputs": [
    {
     "name": "stdout",
     "output_type": "stream",
     "text": [
      " * sqlite:///CourseDataWarehouseDemo.db\n",
      "Done.\n",
      "Done.\n"
     ]
    },
    {
     "data": {
      "text/plain": [
       "[]"
      ]
     },
     "execution_count": 11,
     "metadata": {},
     "output_type": "execute_result"
    }
   ],
   "source": [
    "%%sql\n",
    "\n",
    "DROP TABLE IF EXISTS TERM_WH;\n",
    "CREATE TABLE TERM_WH (\n",
    "    TermID INTEGER PRIMARY KEY,\n",
    "    Term TEXT NOT NULL\n",
    ");"
   ]
  },
  {
   "cell_type": "markdown",
   "metadata": {},
   "source": [
    "<b>3-2</b>: Per our Star schema ERD, since we have created all the dimension tables. We move on to create the fact table REG_COURSE_WH and proceed with linking each of the applicable foreign keys."
   ]
  },
  {
   "cell_type": "code",
   "execution_count": 12,
   "metadata": {},
   "outputs": [
    {
     "name": "stdout",
     "output_type": "stream",
     "text": [
      " * sqlite:///CourseDataWarehouseDemo.db\n",
      "Done.\n",
      "Done.\n"
     ]
    },
    {
     "data": {
      "text/plain": [
       "[]"
      ]
     },
     "execution_count": 12,
     "metadata": {},
     "output_type": "execute_result"
    }
   ],
   "source": [
    "%%sql\n",
    "\n",
    "DROP TABLE IF EXISTS REG_COURSE_WH;\n",
    "CREATE TABLE REG_COURSE_WH (\n",
    "    COID INTEGER PRIMARY KEY,\n",
    "    TCID INTEGER,\n",
    "    LID INTEGER,\n",
    "    CAID INTEGER,\n",
    "    IID INTEGER,\n",
    "    TermID INTEGER,\n",
    "    PID INTEGER, \n",
    "    Cap INTEGER,\n",
    "    Act INTEGER,\n",
    "    Rem INTEGER,\n",
    "    Credits INTEGER,\n",
    "    Day TEXT,\n",
    "    Start INTEGER,\n",
    "    End INTEGER, \n",
    "    FOREIGN KEY (TCID) REFERENCES TIME_CODE_WH(TCID),\n",
    "    FOREIGN KEY (LID) REFERENCES LOCATION_WH(LID),\n",
    "    FOREIGN KEY (CAID) REFERENCES CATALOG_COURSE_WH(TID),\n",
    "    FOREIGN KEY (IID) REFERENCES INSTRUCTOR_WH(IID),\n",
    "    FOREIGN KEY (TermID) REFERENCES TERM_WH(TermID),\n",
    "    FOREIGN KEY (PID) REFERENCES PROGRAM_WH(PID)\n",
    "    )"
   ]
  },
  {
   "cell_type": "markdown",
   "metadata": {},
   "source": [
    "<big><b>Step 4</b>: Now that tables have been created, we begin importing the data from our normalized database. We will follow the table creation order and import the dimension table data first, then the fact table data.</big>"
   ]
  },
  {
   "cell_type": "markdown",
   "metadata": {},
   "source": [
    "<b>4-1</b>: We populate the dimension tables as follows: INSTRUCTOR_WH, LOCATION_WH, PROGRAM_WH, CATALOG_COURSE_WH, TIME_CODE_WH, and TERM_WH."
   ]
  },
  {
   "cell_type": "code",
   "execution_count": 13,
   "metadata": {},
   "outputs": [
    {
     "name": "stdout",
     "output_type": "stream",
     "text": [
      " * sqlite:///CourseDataWarehouseDemo.db\n",
      "0 rows affected.\n",
      "1104 rows affected.\n"
     ]
    },
    {
     "data": {
      "text/plain": [
       "[]"
      ]
     },
     "execution_count": 13,
     "metadata": {},
     "output_type": "execute_result"
    }
   ],
   "source": [
    "%%sql\n",
    "\n",
    "DELETE FROM INSTRUCTOR_WH;\n",
    "INSERT INTO INSTRUCTOR_WH (Name)\n",
    "    SELECT DISTINCT db1.INSTRUCTOR.Name\n",
    "    FROM db1.INSTRUCTOR;\n",
    "    \n"
   ]
  },
  {
   "cell_type": "code",
   "execution_count": 14,
   "metadata": {},
   "outputs": [
    {
     "name": "stdout",
     "output_type": "stream",
     "text": [
      " * sqlite:///CourseDataWarehouseDemo.db\n",
      "0 rows affected.\n",
      "207 rows affected.\n"
     ]
    },
    {
     "data": {
      "text/plain": [
       "[]"
      ]
     },
     "execution_count": 14,
     "metadata": {},
     "output_type": "execute_result"
    }
   ],
   "source": [
    "%%sql\n",
    "\n",
    "DELETE FROM LOCATION_WH;\n",
    "INSERT INTO LOCATION_WH (LID, Location)\n",
    "    SELECT DISTINCT db1.LOCATION.LID, db1.LOCATION.Location\n",
    "    FROM db1.LOCATION;"
   ]
  },
  {
   "cell_type": "code",
   "execution_count": 17,
   "metadata": {},
   "outputs": [
    {
     "name": "stdout",
     "output_type": "stream",
     "text": [
      " * sqlite:///CourseDataWarehouseDemo.db\n",
      "0 rows affected.\n",
      "83 rows affected.\n"
     ]
    },
    {
     "data": {
      "text/plain": [
       "[]"
      ]
     },
     "execution_count": 17,
     "metadata": {},
     "output_type": "execute_result"
    }
   ],
   "source": [
    "%%sql\n",
    "\n",
    "DELETE FROM PROGRAM_WH;\n",
    "INSERT INTO PROGRAM_WH (ProgramCode, ProgramName)\n",
    "    SELECT DISTINCT ProgramCode, ProgramName\n",
    "    FROM db1.PROGRAM;"
   ]
  },
  {
   "cell_type": "code",
   "execution_count": 16,
   "metadata": {},
   "outputs": [
    {
     "name": "stdout",
     "output_type": "stream",
     "text": [
      " * sqlite:///CourseDataWarehouseDemo.db\n",
      "0 rows affected.\n",
      "2220 rows affected.\n"
     ]
    },
    {
     "data": {
      "text/plain": [
       "[]"
      ]
     },
     "execution_count": 16,
     "metadata": {},
     "output_type": "execute_result"
    }
   ],
   "source": [
    "%%sql\n",
    "\n",
    "DELETE FROM CATALOG_COURSE_WH;\n",
    "INSERT INTO CATALOG_COURSE_WH (CatalogID, Title, Attributes, Description, Prereqs)\n",
    "    SELECT DISTINCT CatalogID, Title, Attributes, Description, Prereqs\n",
    "    FROM db1.CATALOG_COURSE;"
   ]
  },
  {
   "cell_type": "code",
   "execution_count": 15,
   "metadata": {},
   "outputs": [
    {
     "name": "stdout",
     "output_type": "stream",
     "text": [
      " * sqlite:///CourseDataWarehouseDemo.db\n",
      "0 rows affected.\n",
      "12039 rows affected.\n"
     ]
    },
    {
     "data": {
      "text/plain": [
       "[]"
      ]
     },
     "execution_count": 15,
     "metadata": {},
     "output_type": "execute_result"
    }
   ],
   "source": [
    "%%sql\n",
    "\n",
    "DELETE FROM TIME_CODE_WH;\n",
    "INSERT INTO TIME_CODE_WH (Meetings)\n",
    "    SELECT DISTINCT OFFERINGS_COURSE.Meetings\n",
    "    FROM db1.OFFERINGS_COURSE;\n",
    "    "
   ]
  },
  {
   "cell_type": "code",
   "execution_count": 18,
   "metadata": {},
   "outputs": [
    {
     "name": "stdout",
     "output_type": "stream",
     "text": [
      " * sqlite:///CourseDataWarehouseDemo.db\n",
      "0 rows affected.\n",
      "19 rows affected.\n"
     ]
    },
    {
     "data": {
      "text/plain": [
       "[]"
      ]
     },
     "execution_count": 18,
     "metadata": {},
     "output_type": "execute_result"
    }
   ],
   "source": [
    "%%sql\n",
    "\n",
    "DELETE FROM TERM_WH;\n",
    "INSERT INTO TERM_WH (Term)\n",
    "    SELECT DISTINCT Term\n",
    "    FROM db1.OFFERINGS_COURSE;"
   ]
  },
  {
   "cell_type": "markdown",
   "metadata": {},
   "source": [
    "<b>4-2</b>: Due to the complicated nature of the fact table, we first test the select query to make sure all of the data is pulling properly first. After confirming the select query is pulling the data correctly, we populate the fact table."
   ]
  },
  {
   "cell_type": "code",
   "execution_count": 19,
   "metadata": {},
   "outputs": [
    {
     "name": "stdout",
     "output_type": "stream",
     "text": [
      " * sqlite:///CourseDataWarehouseDemo.db\n",
      "Done.\n"
     ]
    },
    {
     "data": {
      "text/html": [
       "<table>\n",
       "    <tr>\n",
       "        <th>CMID</th>\n",
       "        <th>LID</th>\n",
       "        <th>CAID</th>\n",
       "        <th>IID</th>\n",
       "        <th>TermID</th>\n",
       "        <th>PID</th>\n",
       "        <th>Cap</th>\n",
       "        <th>Act</th>\n",
       "        <th>Rem</th>\n",
       "        <th>Credits</th>\n",
       "        <th>Day</th>\n",
       "        <th>Start</th>\n",
       "        <th>End</th>\n",
       "    </tr>\n",
       "    <tr>\n",
       "        <td>795</td>\n",
       "        <td>10</td>\n",
       "        <td>364</td>\n",
       "        <td>16</td>\n",
       "        <td>1</td>\n",
       "        <td>12</td>\n",
       "        <td>13</td>\n",
       "        <td>15</td>\n",
       "        <td>-2</td>\n",
       "        <td>3 Credits</td>\n",
       "        <td>W</td>\n",
       "        <td>2014-09-10T10:50:00</td>\n",
       "        <td>2014-09-10T13:50:00</td>\n",
       "    </tr>\n",
       "    <tr>\n",
       "        <td>796</td>\n",
       "        <td>10</td>\n",
       "        <td>364</td>\n",
       "        <td>16</td>\n",
       "        <td>1</td>\n",
       "        <td>12</td>\n",
       "        <td>13</td>\n",
       "        <td>15</td>\n",
       "        <td>-2</td>\n",
       "        <td>3 Credits</td>\n",
       "        <td>W</td>\n",
       "        <td>2014-09-17T10:50:00</td>\n",
       "        <td>2014-09-17T13:50:00</td>\n",
       "    </tr>\n",
       "    <tr>\n",
       "        <td>797</td>\n",
       "        <td>10</td>\n",
       "        <td>364</td>\n",
       "        <td>16</td>\n",
       "        <td>1</td>\n",
       "        <td>12</td>\n",
       "        <td>13</td>\n",
       "        <td>15</td>\n",
       "        <td>-2</td>\n",
       "        <td>3 Credits</td>\n",
       "        <td>W</td>\n",
       "        <td>2014-09-24T10:50:00</td>\n",
       "        <td>2014-09-24T13:50:00</td>\n",
       "    </tr>\n",
       "    <tr>\n",
       "        <td>798</td>\n",
       "        <td>10</td>\n",
       "        <td>364</td>\n",
       "        <td>16</td>\n",
       "        <td>1</td>\n",
       "        <td>12</td>\n",
       "        <td>13</td>\n",
       "        <td>15</td>\n",
       "        <td>-2</td>\n",
       "        <td>3 Credits</td>\n",
       "        <td>W</td>\n",
       "        <td>2014-10-01T10:50:00</td>\n",
       "        <td>2014-10-01T13:50:00</td>\n",
       "    </tr>\n",
       "    <tr>\n",
       "        <td>799</td>\n",
       "        <td>10</td>\n",
       "        <td>364</td>\n",
       "        <td>16</td>\n",
       "        <td>1</td>\n",
       "        <td>12</td>\n",
       "        <td>13</td>\n",
       "        <td>15</td>\n",
       "        <td>-2</td>\n",
       "        <td>3 Credits</td>\n",
       "        <td>W</td>\n",
       "        <td>2014-10-08T10:50:00</td>\n",
       "        <td>2014-10-08T13:50:00</td>\n",
       "    </tr>\n",
       "    <tr>\n",
       "        <td>800</td>\n",
       "        <td>10</td>\n",
       "        <td>364</td>\n",
       "        <td>16</td>\n",
       "        <td>1</td>\n",
       "        <td>12</td>\n",
       "        <td>13</td>\n",
       "        <td>15</td>\n",
       "        <td>-2</td>\n",
       "        <td>3 Credits</td>\n",
       "        <td>W</td>\n",
       "        <td>2014-10-15T10:50:00</td>\n",
       "        <td>2014-10-15T13:50:00</td>\n",
       "    </tr>\n",
       "    <tr>\n",
       "        <td>801</td>\n",
       "        <td>10</td>\n",
       "        <td>364</td>\n",
       "        <td>16</td>\n",
       "        <td>1</td>\n",
       "        <td>12</td>\n",
       "        <td>13</td>\n",
       "        <td>15</td>\n",
       "        <td>-2</td>\n",
       "        <td>3 Credits</td>\n",
       "        <td>W</td>\n",
       "        <td>2014-10-22T10:50:00</td>\n",
       "        <td>2014-10-22T13:50:00</td>\n",
       "    </tr>\n",
       "    <tr>\n",
       "        <td>802</td>\n",
       "        <td>10</td>\n",
       "        <td>364</td>\n",
       "        <td>16</td>\n",
       "        <td>1</td>\n",
       "        <td>12</td>\n",
       "        <td>13</td>\n",
       "        <td>15</td>\n",
       "        <td>-2</td>\n",
       "        <td>3 Credits</td>\n",
       "        <td>W</td>\n",
       "        <td>2014-10-29T10:50:00</td>\n",
       "        <td>2014-10-29T13:50:00</td>\n",
       "    </tr>\n",
       "    <tr>\n",
       "        <td>803</td>\n",
       "        <td>10</td>\n",
       "        <td>364</td>\n",
       "        <td>16</td>\n",
       "        <td>1</td>\n",
       "        <td>12</td>\n",
       "        <td>13</td>\n",
       "        <td>15</td>\n",
       "        <td>-2</td>\n",
       "        <td>3 Credits</td>\n",
       "        <td>W</td>\n",
       "        <td>2014-11-05T10:50:00</td>\n",
       "        <td>2014-11-05T13:50:00</td>\n",
       "    </tr>\n",
       "    <tr>\n",
       "        <td>804</td>\n",
       "        <td>10</td>\n",
       "        <td>364</td>\n",
       "        <td>16</td>\n",
       "        <td>1</td>\n",
       "        <td>12</td>\n",
       "        <td>13</td>\n",
       "        <td>15</td>\n",
       "        <td>-2</td>\n",
       "        <td>3 Credits</td>\n",
       "        <td>W</td>\n",
       "        <td>2014-11-12T10:50:00</td>\n",
       "        <td>2014-11-12T13:50:00</td>\n",
       "    </tr>\n",
       "    <tr>\n",
       "        <td>805</td>\n",
       "        <td>10</td>\n",
       "        <td>364</td>\n",
       "        <td>16</td>\n",
       "        <td>1</td>\n",
       "        <td>12</td>\n",
       "        <td>13</td>\n",
       "        <td>15</td>\n",
       "        <td>-2</td>\n",
       "        <td>3 Credits</td>\n",
       "        <td>W</td>\n",
       "        <td>2014-11-19T10:50:00</td>\n",
       "        <td>2014-11-19T13:50:00</td>\n",
       "    </tr>\n",
       "    <tr>\n",
       "        <td>806</td>\n",
       "        <td>10</td>\n",
       "        <td>364</td>\n",
       "        <td>16</td>\n",
       "        <td>1</td>\n",
       "        <td>12</td>\n",
       "        <td>13</td>\n",
       "        <td>15</td>\n",
       "        <td>-2</td>\n",
       "        <td>3 Credits</td>\n",
       "        <td>W</td>\n",
       "        <td>2014-11-26T10:50:00</td>\n",
       "        <td>2014-11-26T13:50:00</td>\n",
       "    </tr>\n",
       "    <tr>\n",
       "        <td>807</td>\n",
       "        <td>10</td>\n",
       "        <td>364</td>\n",
       "        <td>16</td>\n",
       "        <td>1</td>\n",
       "        <td>12</td>\n",
       "        <td>13</td>\n",
       "        <td>15</td>\n",
       "        <td>-2</td>\n",
       "        <td>3 Credits</td>\n",
       "        <td>W</td>\n",
       "        <td>2014-12-03T10:50:00</td>\n",
       "        <td>2014-12-03T13:50:00</td>\n",
       "    </tr>\n",
       "    <tr>\n",
       "        <td>808</td>\n",
       "        <td>10</td>\n",
       "        <td>364</td>\n",
       "        <td>16</td>\n",
       "        <td>1</td>\n",
       "        <td>12</td>\n",
       "        <td>13</td>\n",
       "        <td>15</td>\n",
       "        <td>-2</td>\n",
       "        <td>3 Credits</td>\n",
       "        <td>W</td>\n",
       "        <td>2014-12-10T10:50:00</td>\n",
       "        <td>2014-12-10T13:50:00</td>\n",
       "    </tr>\n",
       "    <tr>\n",
       "        <td>809</td>\n",
       "        <td>10</td>\n",
       "        <td>364</td>\n",
       "        <td>16</td>\n",
       "        <td>1</td>\n",
       "        <td>12</td>\n",
       "        <td>13</td>\n",
       "        <td>15</td>\n",
       "        <td>-2</td>\n",
       "        <td>3 Credits</td>\n",
       "        <td>W</td>\n",
       "        <td>2014-12-17T10:50:00</td>\n",
       "        <td>2014-12-17T13:50:00</td>\n",
       "    </tr>\n",
       "    <tr>\n",
       "        <td>810</td>\n",
       "        <td>10</td>\n",
       "        <td>406</td>\n",
       "        <td>16</td>\n",
       "        <td>1</td>\n",
       "        <td>12</td>\n",
       "        <td>12</td>\n",
       "        <td>12</td>\n",
       "        <td>0</td>\n",
       "        <td>3 Credits</td>\n",
       "        <td>T</td>\n",
       "        <td>2014-09-02T10:50:00</td>\n",
       "        <td>2014-09-02T13:50:00</td>\n",
       "    </tr>\n",
       "    <tr>\n",
       "        <td>811</td>\n",
       "        <td>10</td>\n",
       "        <td>406</td>\n",
       "        <td>16</td>\n",
       "        <td>1</td>\n",
       "        <td>12</td>\n",
       "        <td>12</td>\n",
       "        <td>12</td>\n",
       "        <td>0</td>\n",
       "        <td>3 Credits</td>\n",
       "        <td>T</td>\n",
       "        <td>2014-09-09T10:50:00</td>\n",
       "        <td>2014-09-09T13:50:00</td>\n",
       "    </tr>\n",
       "    <tr>\n",
       "        <td>812</td>\n",
       "        <td>10</td>\n",
       "        <td>406</td>\n",
       "        <td>16</td>\n",
       "        <td>1</td>\n",
       "        <td>12</td>\n",
       "        <td>12</td>\n",
       "        <td>12</td>\n",
       "        <td>0</td>\n",
       "        <td>3 Credits</td>\n",
       "        <td>T</td>\n",
       "        <td>2014-09-16T10:50:00</td>\n",
       "        <td>2014-09-16T13:50:00</td>\n",
       "    </tr>\n",
       "    <tr>\n",
       "        <td>813</td>\n",
       "        <td>10</td>\n",
       "        <td>406</td>\n",
       "        <td>16</td>\n",
       "        <td>1</td>\n",
       "        <td>12</td>\n",
       "        <td>12</td>\n",
       "        <td>12</td>\n",
       "        <td>0</td>\n",
       "        <td>3 Credits</td>\n",
       "        <td>T</td>\n",
       "        <td>2014-09-23T10:50:00</td>\n",
       "        <td>2014-09-23T13:50:00</td>\n",
       "    </tr>\n",
       "    <tr>\n",
       "        <td>814</td>\n",
       "        <td>10</td>\n",
       "        <td>406</td>\n",
       "        <td>16</td>\n",
       "        <td>1</td>\n",
       "        <td>12</td>\n",
       "        <td>12</td>\n",
       "        <td>12</td>\n",
       "        <td>0</td>\n",
       "        <td>3 Credits</td>\n",
       "        <td>T</td>\n",
       "        <td>2014-09-30T10:50:00</td>\n",
       "        <td>2014-09-30T13:50:00</td>\n",
       "    </tr>\n",
       "</table>"
      ],
      "text/plain": [
       "[(795, 10, 364, 16, 1, 12, 13, 15, -2, '3 Credits', 'W', '2014-09-10T10:50:00', '2014-09-10T13:50:00'),\n",
       " (796, 10, 364, 16, 1, 12, 13, 15, -2, '3 Credits', 'W', '2014-09-17T10:50:00', '2014-09-17T13:50:00'),\n",
       " (797, 10, 364, 16, 1, 12, 13, 15, -2, '3 Credits', 'W', '2014-09-24T10:50:00', '2014-09-24T13:50:00'),\n",
       " (798, 10, 364, 16, 1, 12, 13, 15, -2, '3 Credits', 'W', '2014-10-01T10:50:00', '2014-10-01T13:50:00'),\n",
       " (799, 10, 364, 16, 1, 12, 13, 15, -2, '3 Credits', 'W', '2014-10-08T10:50:00', '2014-10-08T13:50:00'),\n",
       " (800, 10, 364, 16, 1, 12, 13, 15, -2, '3 Credits', 'W', '2014-10-15T10:50:00', '2014-10-15T13:50:00'),\n",
       " (801, 10, 364, 16, 1, 12, 13, 15, -2, '3 Credits', 'W', '2014-10-22T10:50:00', '2014-10-22T13:50:00'),\n",
       " (802, 10, 364, 16, 1, 12, 13, 15, -2, '3 Credits', 'W', '2014-10-29T10:50:00', '2014-10-29T13:50:00'),\n",
       " (803, 10, 364, 16, 1, 12, 13, 15, -2, '3 Credits', 'W', '2014-11-05T10:50:00', '2014-11-05T13:50:00'),\n",
       " (804, 10, 364, 16, 1, 12, 13, 15, -2, '3 Credits', 'W', '2014-11-12T10:50:00', '2014-11-12T13:50:00'),\n",
       " (805, 10, 364, 16, 1, 12, 13, 15, -2, '3 Credits', 'W', '2014-11-19T10:50:00', '2014-11-19T13:50:00'),\n",
       " (806, 10, 364, 16, 1, 12, 13, 15, -2, '3 Credits', 'W', '2014-11-26T10:50:00', '2014-11-26T13:50:00'),\n",
       " (807, 10, 364, 16, 1, 12, 13, 15, -2, '3 Credits', 'W', '2014-12-03T10:50:00', '2014-12-03T13:50:00'),\n",
       " (808, 10, 364, 16, 1, 12, 13, 15, -2, '3 Credits', 'W', '2014-12-10T10:50:00', '2014-12-10T13:50:00'),\n",
       " (809, 10, 364, 16, 1, 12, 13, 15, -2, '3 Credits', 'W', '2014-12-17T10:50:00', '2014-12-17T13:50:00'),\n",
       " (810, 10, 406, 16, 1, 12, 12, 12, 0, '3 Credits', 'T', '2014-09-02T10:50:00', '2014-09-02T13:50:00'),\n",
       " (811, 10, 406, 16, 1, 12, 12, 12, 0, '3 Credits', 'T', '2014-09-09T10:50:00', '2014-09-09T13:50:00'),\n",
       " (812, 10, 406, 16, 1, 12, 12, 12, 0, '3 Credits', 'T', '2014-09-16T10:50:00', '2014-09-16T13:50:00'),\n",
       " (813, 10, 406, 16, 1, 12, 12, 12, 0, '3 Credits', 'T', '2014-09-23T10:50:00', '2014-09-23T13:50:00'),\n",
       " (814, 10, 406, 16, 1, 12, 12, 12, 0, '3 Credits', 'T', '2014-09-30T10:50:00', '2014-09-30T13:50:00')]"
      ]
     },
     "execution_count": 19,
     "metadata": {},
     "output_type": "execute_result"
    }
   ],
   "source": [
    "%%sql\n",
    "\n",
    "SELECT DISTINCT db1.MEETINGS_COURSE.CMID, db1.LOCATION.LID, db1.CATALOG_COURSE.CAID,\n",
    "                     INSTRUCTOR_WH.IID, TERM_WH.TermID, db1.PROGRAM.PID, db1.OFFERINGS_COURSE.Cap, \n",
    "                     db1.OFFERINGS_COURSE.Act, db1.OFFERINGS_COURSE.Rem, db1.CATALOG_COURSE.Credits, \n",
    "                     db1.MEETINGS_COURSE.Day, db1.MEETINGS_COURSE.Start, db1.MEETINGS_COURSE.End\n",
    "FROM db1.OFFERINGS_COURSE\n",
    "        LEFT JOIN db1.CATALOG_COURSE ON (OFFERINGS_COURSE.CatalogID = CATALOG_COURSE.CatalogID)\n",
    "        LEFT JOIN db1.PROGRAM ON (CATALOG_COURSE.ProgramName = PROGRAM.ProgramName)\n",
    "        LEFT JOIN INSTRUCTOR ON (OFFERINGS_COURSE.Name = INSTRUCTOR.Name)\n",
    "        LEFT JOIN db1.MEETINGS_COURSE ON (OFFERINGS_COURSE.CRN = MEETINGS_COURSE.CRN)\n",
    "        LEFT JOIN db1.LOCATION ON (MEETINGS_COURSE.Location = LOCATION.Location)\n",
    "        LEFT JOIN TERM_WH ON (OFFERINGS_COURSE.Term = TERM_WH.Term)\n",
    "        LEFT JOIN INSTRUCTOR_WH ON (INSTRUCTOR.IID = INSTRUCTOR_WH.IID)\n",
    "WHERE LOCATION.LID = 10\n",
    "    \n",
    "LIMIT 20;\n"
   ]
  },
  {
   "cell_type": "code",
   "execution_count": 20,
   "metadata": {},
   "outputs": [
    {
     "name": "stdout",
     "output_type": "stream",
     "text": [
      " * sqlite:///CourseDataWarehouseDemo.db\n",
      "0 rows affected.\n",
      "381649 rows affected.\n"
     ]
    },
    {
     "data": {
      "text/plain": [
       "[]"
      ]
     },
     "execution_count": 20,
     "metadata": {},
     "output_type": "execute_result"
    }
   ],
   "source": [
    "%%sql\n",
    "\n",
    "DELETE FROM REG_COURSE_WH;\n",
    "INSERT INTO REG_COURSE_WH (TCID, LID, CAID, IID, TermID, PID, Cap, Act, Rem, Credits, Day, Start, End)\n",
    "    SELECT DISTINCT db1.MEETINGS_COURSE.CMID, db1.LOCATION.LID, db1.CATALOG_COURSE.CAID,\n",
    "                     INSTRUCTOR_WH.IID, TERM_WH.TermID, db1.PROGRAM.PID, db1.OFFERINGS_COURSE.Cap, \n",
    "                     db1.OFFERINGS_COURSE.Act, db1.OFFERINGS_COURSE.Rem, db1.CATALOG_COURSE.Credits, \n",
    "                     db1.MEETINGS_COURSE.Day, db1.MEETINGS_COURSE.Start, db1.MEETINGS_COURSE.End\n",
    "FROM db1.OFFERINGS_COURSE\n",
    "        LEFT JOIN db1.CATALOG_COURSE ON (OFFERINGS_COURSE.CatalogID = CATALOG_COURSE.CatalogID)\n",
    "        LEFT JOIN db1.PROGRAM ON (CATALOG_COURSE.ProgramName = PROGRAM.ProgramName)\n",
    "        LEFT JOIN db1.INSTRUCTOR ON (OFFERINGS_COURSE.Name = INSTRUCTOR.Name)\n",
    "        LEFT JOIN db1.MEETINGS_COURSE ON (OFFERINGS_COURSE.CRN = MEETINGS_COURSE.CRN)\n",
    "        LEFT JOIN db1.LOCATION ON (MEETINGS_COURSE.Location = LOCATION.Location)\n",
    "        LEFT JOIN TERM_WH ON (OFFERINGS_COURSE.Term = TERM_WH.Term)\n",
    "        LEFT JOIN INSTRUCTOR_WH ON (INSTRUCTOR.Name = INSTRUCTOR_WH.Name);\n",
    "    "
   ]
  },
  {
   "cell_type": "markdown",
   "metadata": {},
   "source": [
    "<big><b>Step 5</b>: We perform a count to ensure that the total number of rows added to the fact table lines up with the count.</big>"
   ]
  },
  {
   "cell_type": "code",
   "execution_count": 22,
   "metadata": {},
   "outputs": [
    {
     "name": "stdout",
     "output_type": "stream",
     "text": [
      " * sqlite:///CourseDataWarehouseDemo.db\n",
      "Done.\n"
     ]
    },
    {
     "data": {
      "text/html": [
       "<table>\n",
       "    <tr>\n",
       "        <th>COUNT(*)</th>\n",
       "    </tr>\n",
       "    <tr>\n",
       "        <td>381649</td>\n",
       "    </tr>\n",
       "</table>"
      ],
      "text/plain": [
       "[(381649,)]"
      ]
     },
     "execution_count": 22,
     "metadata": {},
     "output_type": "execute_result"
    }
   ],
   "source": [
    "%%sql\n",
    "\n",
    "SELECT COUNT(*)\n",
    "FROM REG_COURSE_WH;\n",
    "        "
   ]
  }
 ],
 "metadata": {
  "kernelspec": {
   "display_name": "Python 3",
   "language": "python",
   "name": "python3"
  },
  "language_info": {
   "codemirror_mode": {
    "name": "ipython",
    "version": 3
   },
   "file_extension": ".py",
   "mimetype": "text/x-python",
   "name": "python",
   "nbconvert_exporter": "python",
   "pygments_lexer": "ipython3",
   "version": "3.6.7"
  }
 },
 "nbformat": 4,
 "nbformat_minor": 4
}
