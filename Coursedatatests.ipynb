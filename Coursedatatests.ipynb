{
 "cells": [
  {
   "cell_type": "code",
   "execution_count": 1,
   "metadata": {},
   "outputs": [],
   "source": [
    "%load_ext sql"
   ]
  },
  {
   "cell_type": "markdown",
   "metadata": {},
   "source": [
    "connecting to the database"
   ]
  },
  {
   "cell_type": "code",
   "execution_count": 2,
   "metadata": {},
   "outputs": [
    {
     "data": {
      "text/plain": [
       "'Connected: @CourseData.db'"
      ]
     },
     "execution_count": 2,
     "metadata": {},
     "output_type": "execute_result"
    }
   ],
   "source": [
    "%%sql\n",
    "\n",
    "sqlite:///CourseData.db"
   ]
  },
  {
   "cell_type": "markdown",
   "metadata": {},
   "source": [
    "We choose. Omari Ansong as our random Instructor ID to test our database, this will show us her information as an instructor."
   ]
  },
  {
   "cell_type": "code",
   "execution_count": 4,
   "metadata": {},
   "outputs": [
    {
     "name": "stdout",
     "output_type": "stream",
     "text": [
      " * sqlite:///CourseData.db\n",
      "Done.\n"
     ]
    },
    {
     "data": {
      "text/html": [
       "<table>\n",
       "    <tr>\n",
       "        <th>IID</th>\n",
       "        <th>Name</th>\n",
       "    </tr>\n",
       "    <tr>\n",
       "        <td>89</td>\n",
       "        <td>Omari   Ansong</td>\n",
       "    </tr>\n",
       "</table>"
      ],
      "text/plain": [
       "[(89, 'Omari   Ansong')]"
      ]
     },
     "execution_count": 4,
     "metadata": {},
     "output_type": "execute_result"
    }
   ],
   "source": [
    "%%sql\n",
    "\n",
    "SELECT * FROM INSTRUCTOR WHERE IID = 89;"
   ]
  },
  {
   "cell_type": "markdown",
   "metadata": {},
   "source": [
    "How many classes did Omari teach over the different semesters? "
   ]
  },
  {
   "cell_type": "code",
   "execution_count": 5,
   "metadata": {},
   "outputs": [
    {
     "name": "stdout",
     "output_type": "stream",
     "text": [
      " * sqlite:///CourseData.db\n",
      "Done.\n"
     ]
    },
    {
     "data": {
      "text/html": [
       "<table>\n",
       "    <tr>\n",
       "        <th>Term</th>\n",
       "        <th>COUNT(*)</th>\n",
       "    </tr>\n",
       "    <tr>\n",
       "        <td>Fall2014</td>\n",
       "        <td>2</td>\n",
       "    </tr>\n",
       "    <tr>\n",
       "        <td>Fall2017</td>\n",
       "        <td>1</td>\n",
       "    </tr>\n",
       "    <tr>\n",
       "        <td>Spring2015</td>\n",
       "        <td>2</td>\n",
       "    </tr>\n",
       "    <tr>\n",
       "        <td>Spring2018</td>\n",
       "        <td>1</td>\n",
       "    </tr>\n",
       "    <tr>\n",
       "        <td>Summer2017</td>\n",
       "        <td>2</td>\n",
       "    </tr>\n",
       "    <tr>\n",
       "        <td>Summer2018</td>\n",
       "        <td>2</td>\n",
       "    </tr>\n",
       "</table>"
      ],
      "text/plain": [
       "[('Fall2014', 2),\n",
       " ('Fall2017', 1),\n",
       " ('Spring2015', 2),\n",
       " ('Spring2018', 1),\n",
       " ('Summer2017', 2),\n",
       " ('Summer2018', 2)]"
      ]
     },
     "execution_count": 5,
     "metadata": {},
     "output_type": "execute_result"
    }
   ],
   "source": [
    "%%sql\n",
    "\n",
    "SELECT DISTINCT Term, COUNT(*) FROM COURSE_OFFERINGS WHERE IID = 89 GROUP BY Term;"
   ]
  },
  {
   "cell_type": "markdown",
   "metadata": {},
   "source": [
    "Lets see if our database will show the different classes that Anita teaches. We will only show 15 to save some time."
   ]
  },
  {
   "cell_type": "code",
   "execution_count": 7,
   "metadata": {},
   "outputs": [
    {
     "name": "stdout",
     "output_type": "stream",
     "text": [
      " * sqlite:///CourseData.db\n",
      "Done.\n"
     ]
    },
    {
     "data": {
      "text/html": [
       "<table>\n",
       "    <tr>\n",
       "        <th>COID</th>\n",
       "        <th>CRN</th>\n",
       "        <th>CatalogID</th>\n",
       "        <th>Title</th>\n",
       "        <th>Term</th>\n",
       "    </tr>\n",
       "    <tr>\n",
       "        <td>433</td>\n",
       "        <td>71499</td>\n",
       "        <td>CH 0111L</td>\n",
       "        <td>General Chemistry I Lab</td>\n",
       "        <td>Fall2014</td>\n",
       "    </tr>\n",
       "    <tr>\n",
       "        <td>443</td>\n",
       "        <td>73221</td>\n",
       "        <td>CH 0111L</td>\n",
       "        <td>General Chemistry I Lab</td>\n",
       "        <td>Fall2014</td>\n",
       "    </tr>\n",
       "    <tr>\n",
       "        <td>9433</td>\n",
       "        <td>71456</td>\n",
       "        <td>CH 0111L</td>\n",
       "        <td>General Chemistry I Lab</td>\n",
       "        <td>Fall2017</td>\n",
       "    </tr>\n",
       "    <tr>\n",
       "        <td>15453</td>\n",
       "        <td>33048</td>\n",
       "        <td>CH 0222L</td>\n",
       "        <td>Chemical Analysis Lab</td>\n",
       "        <td>Spring2015</td>\n",
       "    </tr>\n",
       "    <tr>\n",
       "        <td>15455</td>\n",
       "        <td>34090</td>\n",
       "        <td>CH 0222L</td>\n",
       "        <td>Chemical Analysis Lab</td>\n",
       "        <td>Spring2015</td>\n",
       "    </tr>\n",
       "    <tr>\n",
       "        <td>23893</td>\n",
       "        <td>34565</td>\n",
       "        <td>CH 0112L</td>\n",
       "        <td>General Chemistry II Lab</td>\n",
       "        <td>Spring2018</td>\n",
       "    </tr>\n",
       "    <tr>\n",
       "        <td>30587</td>\n",
       "        <td>57365</td>\n",
       "        <td>CH 0211L</td>\n",
       "        <td>Organic Chemistry I Lab</td>\n",
       "        <td>Summer2017</td>\n",
       "    </tr>\n",
       "    <tr>\n",
       "        <td>30591</td>\n",
       "        <td>57367</td>\n",
       "        <td>CH 0212L</td>\n",
       "        <td>Organic Chemistry II Lab</td>\n",
       "        <td>Summer2017</td>\n",
       "    </tr>\n",
       "    <tr>\n",
       "        <td>31169</td>\n",
       "        <td>58223</td>\n",
       "        <td>CH 0211L</td>\n",
       "        <td>Organic Chemistry I Lab</td>\n",
       "        <td>Summer2018</td>\n",
       "    </tr>\n",
       "    <tr>\n",
       "        <td>31173</td>\n",
       "        <td>58225</td>\n",
       "        <td>CH 0212L</td>\n",
       "        <td>Organic Chemistry II Lab</td>\n",
       "        <td>Summer2018</td>\n",
       "    </tr>\n",
       "</table>"
      ],
      "text/plain": [
       "[(433, 71499, 'CH 0111L', 'General Chemistry I Lab', 'Fall2014'),\n",
       " (443, 73221, 'CH 0111L', 'General Chemistry I Lab', 'Fall2014'),\n",
       " (9433, 71456, 'CH 0111L', 'General Chemistry I Lab', 'Fall2017'),\n",
       " (15453, 33048, 'CH 0222L', 'Chemical Analysis Lab', 'Spring2015'),\n",
       " (15455, 34090, 'CH 0222L', 'Chemical Analysis Lab', 'Spring2015'),\n",
       " (23893, 34565, 'CH 0112L', 'General Chemistry II Lab', 'Spring2018'),\n",
       " (30587, 57365, 'CH 0211L', 'Organic Chemistry I Lab', 'Summer2017'),\n",
       " (30591, 57367, 'CH 0212L', 'Organic Chemistry II Lab', 'Summer2017'),\n",
       " (31169, 58223, 'CH 0211L', 'Organic Chemistry I Lab', 'Summer2018'),\n",
       " (31173, 58225, 'CH 0212L', 'Organic Chemistry II Lab', 'Summer2018')]"
      ]
     },
     "execution_count": 7,
     "metadata": {},
     "output_type": "execute_result"
    }
   ],
   "source": [
    "%%sql\n",
    "\n",
    "SELECT COID, CRN, CatalogID, Title, Term\n",
    "FROM COURSE_OFFERINGS\n",
    "WHERE IID = 89\n",
    "LIMIT 15;"
   ]
  },
  {
   "cell_type": "markdown",
   "metadata": {},
   "source": [
    "Omari taugt 10 classes during his time from Fall 2014 to Summer 2018."
   ]
  },
  {
   "cell_type": "code",
   "execution_count": 10,
   "metadata": {},
   "outputs": [
    {
     "name": "stdout",
     "output_type": "stream",
     "text": [
      " * sqlite:///CourseData.db\n",
      "Done.\n"
     ]
    },
    {
     "data": {
      "text/html": [
       "<table>\n",
       "    <tr>\n",
       "        <th>Classes</th>\n",
       "    </tr>\n",
       "    <tr>\n",
       "        <td>10</td>\n",
       "    </tr>\n",
       "</table>"
      ],
      "text/plain": [
       "[(10,)]"
      ]
     },
     "execution_count": 10,
     "metadata": {},
     "output_type": "execute_result"
    }
   ],
   "source": [
    "%%sql\n",
    "\n",
    "SELECT COUNT (DISTINCT CRN) AS Classes FROM COURSE_OFFERINGS JOIN COURSE_MEETINGS USING (CRN) WHERE IID = 89;"
   ]
  },
  {
   "cell_type": "markdown",
   "metadata": {},
   "source": [
    "Omari is a Chemestry teacher, so his classes would mostly be in Bannow as we see below."
   ]
  },
  {
   "cell_type": "code",
   "execution_count": 11,
   "metadata": {},
   "outputs": [
    {
     "name": "stdout",
     "output_type": "stream",
     "text": [
      " * sqlite:///CourseData.db\n",
      "Done.\n"
     ]
    },
    {
     "data": {
      "text/html": [
       "<table>\n",
       "    <tr>\n",
       "        <th>Location</th>\n",
       "        <th>COUNT(*)</th>\n",
       "    </tr>\n",
       "    <tr>\n",
       "        <td>BNW 339</td>\n",
       "        <td>58</td>\n",
       "    </tr>\n",
       "    <tr>\n",
       "        <td>BNW 341</td>\n",
       "        <td>26</td>\n",
       "    </tr>\n",
       "    <tr>\n",
       "        <td>BNW 361</td>\n",
       "        <td>40</td>\n",
       "    </tr>\n",
       "    <tr>\n",
       "        <td>BNW 362</td>\n",
       "        <td>13</td>\n",
       "    </tr>\n",
       "    <tr>\n",
       "        <td>BNW 363</td>\n",
       "        <td>26</td>\n",
       "    </tr>\n",
       "    <tr>\n",
       "        <td>BNW GR22</td>\n",
       "        <td>27</td>\n",
       "    </tr>\n",
       "    <tr>\n",
       "        <td>CMC </td>\n",
       "        <td>14</td>\n",
       "    </tr>\n",
       "</table>"
      ],
      "text/plain": [
       "[('BNW 339', 58),\n",
       " ('BNW 341', 26),\n",
       " ('BNW 361', 40),\n",
       " ('BNW 362', 13),\n",
       " ('BNW 363', 26),\n",
       " ('BNW GR22', 27),\n",
       " ('CMC ', 14)]"
      ]
     },
     "execution_count": 11,
     "metadata": {},
     "output_type": "execute_result"
    }
   ],
   "source": [
    "%%sql\n",
    "\n",
    "SELECT DISTINCT Location, COUNT(*)\n",
    "FROM LOCATION l\n",
    "INNER JOIN COURSE_MEETINGS m ON l.LID=m.LID\n",
    "INNER JOIN COURSE_OFFERINGS z ON m.CRN=z.CRN\n",
    "WHERE IID = 89\n",
    "GROUP BY Location;"
   ]
  },
  {
   "cell_type": "markdown",
   "metadata": {},
   "source": [
    "We can conclude that Omari Ansong is a Chemestry teacher and teaches his classes in Bannow, and teaches 10 different classes over the corse of 4 years. "
   ]
  },
  {
   "cell_type": "code",
   "execution_count": null,
   "metadata": {},
   "outputs": [],
   "source": []
  }
 ],
 "metadata": {
  "kernelspec": {
   "display_name": "Python 3",
   "language": "python",
   "name": "python3"
  },
  "language_info": {
   "codemirror_mode": {
    "name": "ipython",
    "version": 3
   },
   "file_extension": ".py",
   "mimetype": "text/x-python",
   "name": "python",
   "nbconvert_exporter": "python",
   "pygments_lexer": "ipython3",
   "version": "3.6.7"
  }
 },
 "nbformat": 4,
 "nbformat_minor": 4
}
